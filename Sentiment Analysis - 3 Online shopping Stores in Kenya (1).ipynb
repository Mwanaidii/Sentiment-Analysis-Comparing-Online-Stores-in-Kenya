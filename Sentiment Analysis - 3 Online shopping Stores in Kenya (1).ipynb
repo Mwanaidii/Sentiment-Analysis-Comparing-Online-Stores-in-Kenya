{
 "cells": [
  {
   "cell_type": "markdown",
   "id": "4e32c2f6",
   "metadata": {},
   "source": [
    "#### Introduction: Sentiment Analysis of Online Stores in Kenya\n",
    "\n",
    "The rapid expansion of e-commerce in Kenya has seen platforms like Jumia, Kilimall, and Jiji dominate the online shopping landscape, offering consumers unprecedented convenience. As competition intensifies and customer expectations continue to rise, it becomes increasingly important for online platforms to not only attract customers but also retain their loyalty by delivering exceptional experiences. To remain competitive, these platforms must continuously refine their offerings based on user feedback. This project leverages **sentiment analysis** of customer reviews from popular Kenyan e-commerce sites to extract valuable insights into consumer perceptions. The primary goal is to inform the development of a new e-commerce app, \"X,\" by identifying strengths, weaknesses, and opportunities for enhancement within the current market.\n",
    "\n",
    "By analyzing patterns in sentiment, we aim to pinpoint the aspects of existing platforms that resonate most with users, as well as highlight common frustrations and areas in need of improvement. This research will compare the sentiment scores of various platforms to determine which has better customer reviews, thereby providing actionable insights for the new app's development team. The findings will enable \"App X\" to strategically adopt best practices from established competitors while avoiding pitfalls, ultimately helping developers create a user-centric platform optimized for the Kenyan market. These data-driven insights will empower the team to prioritize features that align with consumer preferences, fostering a competitive edge in the evolving e-commerce landscape.\n",
    "\n",
    "###### Key Questions Our Analysis Aims to Answer:\n",
    "\n",
    "1. Which online store (Jumia, Kilimall, or Jiji) has the highest positive sentiment from customers based on recent reviews?\n",
    "2. What are the common pain points or negative experiences reported by users across these platforms?\n",
    "3. Which features or aspects of online shopping do customers most frequently praise on each platform?\n",
    "4. What actionable insights can be drawn to enhance the functionality and user experience of the new app \"X\" based on customer feedback from existing platforms? \n",
    "\n",
    "These questions will guide the analysis to ensure that the new app \"X\" is optimized for customer needs and stands out in the competitive online shopping market in Kenya.\n",
    "\n"
   ]
  },
  {
   "cell_type": "code",
   "execution_count": 1,
   "id": "6d9177e2",
   "metadata": {},
   "outputs": [
    {
     "name": "stdout",
     "output_type": "stream",
     "text": [
      "Requirement already satisfied: google_play_scraper in c:\\users\\hp\\anaconda3\\lib\\site-packages (1.2.7)\n"
     ]
    }
   ],
   "source": [
    "!pip install google_play_scraper"
   ]
  },
  {
   "cell_type": "code",
   "execution_count": 2,
   "id": "4a26f9db",
   "metadata": {},
   "outputs": [
    {
     "name": "stdout",
     "output_type": "stream",
     "text": [
      "Requirement already satisfied: emoji in c:\\users\\hp\\anaconda3\\lib\\site-packages (2.14.0)\n",
      "Requirement already satisfied: wordcloud in c:\\users\\hp\\anaconda3\\lib\\site-packages (1.9.4)\n",
      "Requirement already satisfied: numpy>=1.6.1 in c:\\users\\hp\\anaconda3\\lib\\site-packages (from wordcloud) (1.23.5)\n",
      "Requirement already satisfied: matplotlib in c:\\users\\hp\\anaconda3\\lib\\site-packages (from wordcloud) (3.7.0)\n",
      "Requirement already satisfied: pillow in c:\\users\\hp\\anaconda3\\lib\\site-packages (from wordcloud) (9.4.0)\n",
      "Requirement already satisfied: fonttools>=4.22.0 in c:\\users\\hp\\anaconda3\\lib\\site-packages (from matplotlib->wordcloud) (4.25.0)\n",
      "Requirement already satisfied: packaging>=20.0 in c:\\users\\hp\\anaconda3\\lib\\site-packages (from matplotlib->wordcloud) (22.0)\n",
      "Requirement already satisfied: pyparsing>=2.3.1 in c:\\users\\hp\\anaconda3\\lib\\site-packages (from matplotlib->wordcloud) (3.0.9)\n",
      "Requirement already satisfied: contourpy>=1.0.1 in c:\\users\\hp\\anaconda3\\lib\\site-packages (from matplotlib->wordcloud) (1.0.5)\n",
      "Requirement already satisfied: kiwisolver>=1.0.1 in c:\\users\\hp\\anaconda3\\lib\\site-packages (from matplotlib->wordcloud) (1.4.4)\n",
      "Requirement already satisfied: python-dateutil>=2.7 in c:\\users\\hp\\anaconda3\\lib\\site-packages (from matplotlib->wordcloud) (2.8.2)\n",
      "Requirement already satisfied: cycler>=0.10 in c:\\users\\hp\\anaconda3\\lib\\site-packages (from matplotlib->wordcloud) (0.11.0)\n",
      "Requirement already satisfied: six>=1.5 in c:\\users\\hp\\anaconda3\\lib\\site-packages (from python-dateutil>=2.7->matplotlib->wordcloud) (1.16.0)\n",
      "Requirement already satisfied: TextBlob in c:\\users\\hp\\anaconda3\\lib\\site-packages (0.18.0.post0)\n",
      "Requirement already satisfied: nltk>=3.8 in c:\\users\\hp\\anaconda3\\lib\\site-packages (from TextBlob) (3.9.1)\n",
      "Requirement already satisfied: tqdm in c:\\users\\hp\\anaconda3\\lib\\site-packages (from nltk>=3.8->TextBlob) (4.64.1)\n",
      "Requirement already satisfied: joblib in c:\\users\\hp\\anaconda3\\lib\\site-packages (from nltk>=3.8->TextBlob) (1.1.1)\n",
      "Requirement already satisfied: regex>=2021.8.3 in c:\\users\\hp\\anaconda3\\lib\\site-packages (from nltk>=3.8->TextBlob) (2022.7.9)\n",
      "Requirement already satisfied: click in c:\\users\\hp\\anaconda3\\lib\\site-packages (from nltk>=3.8->TextBlob) (8.0.4)\n",
      "Requirement already satisfied: colorama in c:\\users\\hp\\anaconda3\\lib\\site-packages (from click->nltk>=3.8->TextBlob) (0.4.6)\n"
     ]
    }
   ],
   "source": [
    "!pip install emoji\n",
    "!pip install wordcloud\n",
    "!pip install TextBlob\n",
    "\n",
    "## We can use libraries like NLTK, Gensim, TextBlob, spaCY, CoreNLP for data pre-processing and sentiment analysis. \n",
    "## We will use NLTK for pre-processing of data and TextBlob to calculate sentiment score (sentiment polarity and subjectivity )."
   ]
  },
  {
   "cell_type": "code",
   "execution_count": 3,
   "id": "8b18610d",
   "metadata": {},
   "outputs": [],
   "source": [
    "# importing important libraries\n",
    "from google_play_scraper import Sort, reviews_all, reviews, app\n",
    "import pandas as pd\n",
    "import numpy as np\n",
    "import json\n",
    "import matplotlib.pyplot as plt\n",
    "import seaborn as sns\n",
    "import string\n",
    "import emoji\n",
    "import re\n",
    "import nltk\n",
    "from nltk.stem import PorterStemmer\n",
    "from nltk.corpus import stopwords\n",
    "import torch\n",
    "from transformers import RobertaTokenizer, RobertaForSequenceClassification\n",
    "from wordcloud import WordCloud, STOPWORDS\n",
    "from textblob import TextBlob\n",
    "from nltk import word_tokenize, sent_tokenize\n"
   ]
  },
  {
   "cell_type": "markdown",
   "id": "209ed4de",
   "metadata": {},
   "source": [
    "#### Jumia Reviews Web Scrapping, Data Importation and data description\n",
    "\n",
    "##### 1.Jumia Web scrapping\n"
   ]
  },
  {
   "cell_type": "code",
   "execution_count": 4,
   "id": "5aa062ec",
   "metadata": {},
   "outputs": [],
   "source": [
    "#scrap Jumia reviews\n",
    "Jumia, continuation_token = reviews(\n",
    "    'com.jumia.android',\n",
    "    sort = Sort.MOST_RELEVANT, # sort using at( date and time)\n",
    "    count = 1000,\n",
    "    filter_score_with = None\n",
    "    )"
   ]
  },
  {
   "cell_type": "markdown",
   "id": "7a3098b8",
   "metadata": {},
   "source": [
    "##### 2. Jumia Data Import\n",
    "Converting Jumia scrapped data to Data Frame(Structured data) for our analysis."
   ]
  },
  {
   "cell_type": "code",
   "execution_count": 5,
   "id": "bd74baa1",
   "metadata": {},
   "outputs": [
    {
     "data": {
      "text/html": [
       "<div>\n",
       "<style scoped>\n",
       "    .dataframe tbody tr th:only-of-type {\n",
       "        vertical-align: middle;\n",
       "    }\n",
       "\n",
       "    .dataframe tbody tr th {\n",
       "        vertical-align: top;\n",
       "    }\n",
       "\n",
       "    .dataframe thead th {\n",
       "        text-align: right;\n",
       "    }\n",
       "</style>\n",
       "<table border=\"1\" class=\"dataframe\">\n",
       "  <thead>\n",
       "    <tr style=\"text-align: right;\">\n",
       "      <th></th>\n",
       "      <th>reviewId</th>\n",
       "      <th>userName</th>\n",
       "      <th>userImage</th>\n",
       "      <th>content</th>\n",
       "      <th>score</th>\n",
       "      <th>thumbsUpCount</th>\n",
       "      <th>reviewCreatedVersion</th>\n",
       "      <th>at</th>\n",
       "      <th>replyContent</th>\n",
       "      <th>repliedAt</th>\n",
       "      <th>appVersion</th>\n",
       "    </tr>\n",
       "  </thead>\n",
       "  <tbody>\n",
       "    <tr>\n",
       "      <th>0</th>\n",
       "      <td>c6ecd0fa-edb1-461a-b457-bd37fee531a4</td>\n",
       "      <td>All Shipper</td>\n",
       "      <td>https://play-lh.googleusercontent.com/a/ACg8oc...</td>\n",
       "      <td>The app improves and is consumer friendly. The...</td>\n",
       "      <td>4</td>\n",
       "      <td>1217</td>\n",
       "      <td>16.6.1</td>\n",
       "      <td>2024-11-23 10:37:21</td>\n",
       "      <td>We are honored that you have chosen us and pla...</td>\n",
       "      <td>2024-11-26 13:46:58</td>\n",
       "      <td>16.6.1</td>\n",
       "    </tr>\n",
       "    <tr>\n",
       "      <th>1</th>\n",
       "      <td>531e70b7-a702-4de5-84e9-a18f27f05b9a</td>\n",
       "      <td>Brendah Akoth</td>\n",
       "      <td>https://play-lh.googleusercontent.com/a-/ALV-U...</td>\n",
       "      <td>Great app for shopping. I use it all the time ...</td>\n",
       "      <td>5</td>\n",
       "      <td>534</td>\n",
       "      <td>16.4.1</td>\n",
       "      <td>2024-12-24 01:44:20</td>\n",
       "      <td>What a wonderful review ! We’re having this hu...</td>\n",
       "      <td>2024-12-24 12:40:57</td>\n",
       "      <td>16.4.1</td>\n",
       "    </tr>\n",
       "    <tr>\n",
       "      <th>2</th>\n",
       "      <td>cc7f01e9-4695-4953-8d58-ef0f0eb7679f</td>\n",
       "      <td>Olawande Adebayo</td>\n",
       "      <td>https://play-lh.googleusercontent.com/a-/ALV-U...</td>\n",
       "      <td>It's an easy to use app with just one challeng...</td>\n",
       "      <td>4</td>\n",
       "      <td>18</td>\n",
       "      <td>7.6</td>\n",
       "      <td>2021-11-03 12:45:20</td>\n",
       "      <td>Thank you , dear Adebayo ^^</td>\n",
       "      <td>2018-02-13 17:03:12</td>\n",
       "      <td>7.6</td>\n",
       "    </tr>\n",
       "    <tr>\n",
       "      <th>3</th>\n",
       "      <td>d367c2b9-f07f-4664-aaac-a514fc5c9548</td>\n",
       "      <td>PablAnu Coats</td>\n",
       "      <td>https://play-lh.googleusercontent.com/a-/ALV-U...</td>\n",
       "      <td>Very helpful, can find a lot of items. But som...</td>\n",
       "      <td>4</td>\n",
       "      <td>205</td>\n",
       "      <td>14.14.0</td>\n",
       "      <td>2024-05-02 10:24:39</td>\n",
       "      <td>Thank you so much ! We're trying our best to m...</td>\n",
       "      <td>2024-05-03 13:38:52</td>\n",
       "      <td>14.14.0</td>\n",
       "    </tr>\n",
       "    <tr>\n",
       "      <th>4</th>\n",
       "      <td>9773a509-dd0d-4bc5-8ead-1d0aecc77eed</td>\n",
       "      <td>cece nene</td>\n",
       "      <td>https://play-lh.googleusercontent.com/a/ACg8oc...</td>\n",
       "      <td>The only good thing about this is that it's on...</td>\n",
       "      <td>1</td>\n",
       "      <td>3</td>\n",
       "      <td>5.11.1</td>\n",
       "      <td>2020-05-03 19:11:06</td>\n",
       "      <td>None</td>\n",
       "      <td>NaT</td>\n",
       "      <td>5.11.1</td>\n",
       "    </tr>\n",
       "  </tbody>\n",
       "</table>\n",
       "</div>"
      ],
      "text/plain": [
       "                               reviewId          userName  \\\n",
       "0  c6ecd0fa-edb1-461a-b457-bd37fee531a4       All Shipper   \n",
       "1  531e70b7-a702-4de5-84e9-a18f27f05b9a     Brendah Akoth   \n",
       "2  cc7f01e9-4695-4953-8d58-ef0f0eb7679f  Olawande Adebayo   \n",
       "3  d367c2b9-f07f-4664-aaac-a514fc5c9548     PablAnu Coats   \n",
       "4  9773a509-dd0d-4bc5-8ead-1d0aecc77eed         cece nene   \n",
       "\n",
       "                                           userImage  \\\n",
       "0  https://play-lh.googleusercontent.com/a/ACg8oc...   \n",
       "1  https://play-lh.googleusercontent.com/a-/ALV-U...   \n",
       "2  https://play-lh.googleusercontent.com/a-/ALV-U...   \n",
       "3  https://play-lh.googleusercontent.com/a-/ALV-U...   \n",
       "4  https://play-lh.googleusercontent.com/a/ACg8oc...   \n",
       "\n",
       "                                             content  score  thumbsUpCount  \\\n",
       "0  The app improves and is consumer friendly. The...      4           1217   \n",
       "1  Great app for shopping. I use it all the time ...      5            534   \n",
       "2  It's an easy to use app with just one challeng...      4             18   \n",
       "3  Very helpful, can find a lot of items. But som...      4            205   \n",
       "4  The only good thing about this is that it's on...      1              3   \n",
       "\n",
       "  reviewCreatedVersion                  at  \\\n",
       "0               16.6.1 2024-11-23 10:37:21   \n",
       "1               16.4.1 2024-12-24 01:44:20   \n",
       "2                  7.6 2021-11-03 12:45:20   \n",
       "3              14.14.0 2024-05-02 10:24:39   \n",
       "4               5.11.1 2020-05-03 19:11:06   \n",
       "\n",
       "                                        replyContent           repliedAt  \\\n",
       "0  We are honored that you have chosen us and pla... 2024-11-26 13:46:58   \n",
       "1  What a wonderful review ! We’re having this hu... 2024-12-24 12:40:57   \n",
       "2                        Thank you , dear Adebayo ^^ 2018-02-13 17:03:12   \n",
       "3  Thank you so much ! We're trying our best to m... 2024-05-03 13:38:52   \n",
       "4                                               None                 NaT   \n",
       "\n",
       "  appVersion  \n",
       "0     16.6.1  \n",
       "1     16.4.1  \n",
       "2        7.6  \n",
       "3    14.14.0  \n",
       "4     5.11.1  "
      ]
     },
     "execution_count": 5,
     "metadata": {},
     "output_type": "execute_result"
    }
   ],
   "source": [
    "#Convert into a data frame\n",
    "\n",
    "Jumia_rawdata = pd.DataFrame(np.array(Jumia), columns = ['review'])\n",
    "Jumia_rawdata = Jumia_rawdata.join(pd.DataFrame(Jumia_rawdata.pop('review').tolist()))\n",
    "Jumia_rawdata.head()\n",
    "     "
   ]
  },
  {
   "cell_type": "code",
   "execution_count": 6,
   "id": "abb759f7",
   "metadata": {},
   "outputs": [
    {
     "data": {
      "text/html": [
       "<div>\n",
       "<style scoped>\n",
       "    .dataframe tbody tr th:only-of-type {\n",
       "        vertical-align: middle;\n",
       "    }\n",
       "\n",
       "    .dataframe tbody tr th {\n",
       "        vertical-align: top;\n",
       "    }\n",
       "\n",
       "    .dataframe thead th {\n",
       "        text-align: right;\n",
       "    }\n",
       "</style>\n",
       "<table border=\"1\" class=\"dataframe\">\n",
       "  <thead>\n",
       "    <tr style=\"text-align: right;\">\n",
       "      <th></th>\n",
       "      <th>reviewId</th>\n",
       "      <th>userName</th>\n",
       "      <th>userImage</th>\n",
       "      <th>content</th>\n",
       "      <th>score</th>\n",
       "      <th>thumbsUpCount</th>\n",
       "      <th>reviewCreatedVersion</th>\n",
       "      <th>Review_timestamp</th>\n",
       "      <th>replyContent</th>\n",
       "      <th>repliedAt</th>\n",
       "      <th>appVersion</th>\n",
       "    </tr>\n",
       "  </thead>\n",
       "  <tbody>\n",
       "    <tr>\n",
       "      <th>0</th>\n",
       "      <td>c6ecd0fa-edb1-461a-b457-bd37fee531a4</td>\n",
       "      <td>All Shipper</td>\n",
       "      <td>https://play-lh.googleusercontent.com/a/ACg8oc...</td>\n",
       "      <td>The app improves and is consumer friendly. The...</td>\n",
       "      <td>4</td>\n",
       "      <td>1217</td>\n",
       "      <td>16.6.1</td>\n",
       "      <td>2024-11-23 10:37:21</td>\n",
       "      <td>We are honored that you have chosen us and pla...</td>\n",
       "      <td>2024-11-26 13:46:58</td>\n",
       "      <td>16.6.1</td>\n",
       "    </tr>\n",
       "    <tr>\n",
       "      <th>1</th>\n",
       "      <td>531e70b7-a702-4de5-84e9-a18f27f05b9a</td>\n",
       "      <td>Brendah Akoth</td>\n",
       "      <td>https://play-lh.googleusercontent.com/a-/ALV-U...</td>\n",
       "      <td>Great app for shopping. I use it all the time ...</td>\n",
       "      <td>5</td>\n",
       "      <td>534</td>\n",
       "      <td>16.4.1</td>\n",
       "      <td>2024-12-24 01:44:20</td>\n",
       "      <td>What a wonderful review ! We’re having this hu...</td>\n",
       "      <td>2024-12-24 12:40:57</td>\n",
       "      <td>16.4.1</td>\n",
       "    </tr>\n",
       "    <tr>\n",
       "      <th>2</th>\n",
       "      <td>cc7f01e9-4695-4953-8d58-ef0f0eb7679f</td>\n",
       "      <td>Olawande Adebayo</td>\n",
       "      <td>https://play-lh.googleusercontent.com/a-/ALV-U...</td>\n",
       "      <td>It's an easy to use app with just one challeng...</td>\n",
       "      <td>4</td>\n",
       "      <td>18</td>\n",
       "      <td>7.6</td>\n",
       "      <td>2021-11-03 12:45:20</td>\n",
       "      <td>Thank you , dear Adebayo ^^</td>\n",
       "      <td>2018-02-13 17:03:12</td>\n",
       "      <td>7.6</td>\n",
       "    </tr>\n",
       "    <tr>\n",
       "      <th>3</th>\n",
       "      <td>d367c2b9-f07f-4664-aaac-a514fc5c9548</td>\n",
       "      <td>PablAnu Coats</td>\n",
       "      <td>https://play-lh.googleusercontent.com/a-/ALV-U...</td>\n",
       "      <td>Very helpful, can find a lot of items. But som...</td>\n",
       "      <td>4</td>\n",
       "      <td>205</td>\n",
       "      <td>14.14.0</td>\n",
       "      <td>2024-05-02 10:24:39</td>\n",
       "      <td>Thank you so much ! We're trying our best to m...</td>\n",
       "      <td>2024-05-03 13:38:52</td>\n",
       "      <td>14.14.0</td>\n",
       "    </tr>\n",
       "    <tr>\n",
       "      <th>4</th>\n",
       "      <td>9773a509-dd0d-4bc5-8ead-1d0aecc77eed</td>\n",
       "      <td>cece nene</td>\n",
       "      <td>https://play-lh.googleusercontent.com/a/ACg8oc...</td>\n",
       "      <td>The only good thing about this is that it's on...</td>\n",
       "      <td>1</td>\n",
       "      <td>3</td>\n",
       "      <td>5.11.1</td>\n",
       "      <td>2020-05-03 19:11:06</td>\n",
       "      <td>None</td>\n",
       "      <td>NaT</td>\n",
       "      <td>5.11.1</td>\n",
       "    </tr>\n",
       "  </tbody>\n",
       "</table>\n",
       "</div>"
      ],
      "text/plain": [
       "                               reviewId          userName  \\\n",
       "0  c6ecd0fa-edb1-461a-b457-bd37fee531a4       All Shipper   \n",
       "1  531e70b7-a702-4de5-84e9-a18f27f05b9a     Brendah Akoth   \n",
       "2  cc7f01e9-4695-4953-8d58-ef0f0eb7679f  Olawande Adebayo   \n",
       "3  d367c2b9-f07f-4664-aaac-a514fc5c9548     PablAnu Coats   \n",
       "4  9773a509-dd0d-4bc5-8ead-1d0aecc77eed         cece nene   \n",
       "\n",
       "                                           userImage  \\\n",
       "0  https://play-lh.googleusercontent.com/a/ACg8oc...   \n",
       "1  https://play-lh.googleusercontent.com/a-/ALV-U...   \n",
       "2  https://play-lh.googleusercontent.com/a-/ALV-U...   \n",
       "3  https://play-lh.googleusercontent.com/a-/ALV-U...   \n",
       "4  https://play-lh.googleusercontent.com/a/ACg8oc...   \n",
       "\n",
       "                                             content  score  thumbsUpCount  \\\n",
       "0  The app improves and is consumer friendly. The...      4           1217   \n",
       "1  Great app for shopping. I use it all the time ...      5            534   \n",
       "2  It's an easy to use app with just one challeng...      4             18   \n",
       "3  Very helpful, can find a lot of items. But som...      4            205   \n",
       "4  The only good thing about this is that it's on...      1              3   \n",
       "\n",
       "  reviewCreatedVersion    Review_timestamp  \\\n",
       "0               16.6.1 2024-11-23 10:37:21   \n",
       "1               16.4.1 2024-12-24 01:44:20   \n",
       "2                  7.6 2021-11-03 12:45:20   \n",
       "3              14.14.0 2024-05-02 10:24:39   \n",
       "4               5.11.1 2020-05-03 19:11:06   \n",
       "\n",
       "                                        replyContent           repliedAt  \\\n",
       "0  We are honored that you have chosen us and pla... 2024-11-26 13:46:58   \n",
       "1  What a wonderful review ! We’re having this hu... 2024-12-24 12:40:57   \n",
       "2                        Thank you , dear Adebayo ^^ 2018-02-13 17:03:12   \n",
       "3  Thank you so much ! We're trying our best to m... 2024-05-03 13:38:52   \n",
       "4                                               None                 NaT   \n",
       "\n",
       "  appVersion  \n",
       "0     16.6.1  \n",
       "1     16.4.1  \n",
       "2        7.6  \n",
       "3    14.14.0  \n",
       "4     5.11.1  "
      ]
     },
     "execution_count": 6,
     "metadata": {},
     "output_type": "execute_result"
    }
   ],
   "source": [
    "# renaming the at column\n",
    "Jumia_data = pd.DataFrame(Jumia_rawdata)  # Creating a DataFrame\n",
    "Jumia_data.rename(columns={'at': 'Review_timestamp'}, inplace=True)\n",
    "Jumia_data.head()"
   ]
  },
  {
   "cell_type": "markdown",
   "id": "1ac41f8b",
   "metadata": {},
   "source": [
    "##### 3. Jumia Data Description"
   ]
  },
  {
   "cell_type": "code",
   "execution_count": 7,
   "id": "bf6e9d40",
   "metadata": {},
   "outputs": [
    {
     "name": "stdout",
     "output_type": "stream",
     "text": [
      "(1000, 11)\n",
      "<class 'pandas.core.frame.DataFrame'>\n",
      "RangeIndex: 1000 entries, 0 to 999\n",
      "Data columns (total 11 columns):\n",
      " #   Column                Non-Null Count  Dtype         \n",
      "---  ------                --------------  -----         \n",
      " 0   reviewId              1000 non-null   object        \n",
      " 1   userName              1000 non-null   object        \n",
      " 2   userImage             1000 non-null   object        \n",
      " 3   content               1000 non-null   object        \n",
      " 4   score                 1000 non-null   int64         \n",
      " 5   thumbsUpCount         1000 non-null   int64         \n",
      " 6   reviewCreatedVersion  948 non-null    object        \n",
      " 7   Review_timestamp      1000 non-null   datetime64[ns]\n",
      " 8   replyContent          962 non-null    object        \n",
      " 9   repliedAt             962 non-null    datetime64[ns]\n",
      " 10  appVersion            948 non-null    object        \n",
      "dtypes: datetime64[ns](2), int64(2), object(7)\n",
      "memory usage: 86.1+ KB\n"
     ]
    },
    {
     "data": {
      "text/plain": [
       "1000"
      ]
     },
     "execution_count": 7,
     "metadata": {},
     "output_type": "execute_result"
    }
   ],
   "source": [
    "# Data Description \n",
    "print(Jumia_data.shape)\n",
    "Jumia_data.info()\n",
    "\n",
    "len(Jumia_data.index) # checking the number of observations for our dataset"
   ]
  },
  {
   "cell_type": "markdown",
   "id": "509214e4",
   "metadata": {},
   "source": [
    "###### Some of the data is not nececessary for our analysis so we can extract only the columns that have useful information"
   ]
  },
  {
   "cell_type": "code",
   "execution_count": 8,
   "id": "302e7d06",
   "metadata": {},
   "outputs": [
    {
     "data": {
      "text/html": [
       "<div>\n",
       "<style scoped>\n",
       "    .dataframe tbody tr th:only-of-type {\n",
       "        vertical-align: middle;\n",
       "    }\n",
       "\n",
       "    .dataframe tbody tr th {\n",
       "        vertical-align: top;\n",
       "    }\n",
       "\n",
       "    .dataframe thead th {\n",
       "        text-align: right;\n",
       "    }\n",
       "</style>\n",
       "<table border=\"1\" class=\"dataframe\">\n",
       "  <thead>\n",
       "    <tr style=\"text-align: right;\">\n",
       "      <th></th>\n",
       "      <th>content</th>\n",
       "      <th>reviewCreatedVersion</th>\n",
       "      <th>score</th>\n",
       "      <th>Review_timestamp</th>\n",
       "      <th>thumbsUpCount</th>\n",
       "    </tr>\n",
       "  </thead>\n",
       "  <tbody>\n",
       "    <tr>\n",
       "      <th>305</th>\n",
       "      <td>It is totally useless everything there is so e...</td>\n",
       "      <td>16.12.0</td>\n",
       "      <td>2</td>\n",
       "      <td>2025-02-23 21:17:54</td>\n",
       "      <td>0</td>\n",
       "    </tr>\n",
       "    <tr>\n",
       "      <th>977</th>\n",
       "      <td>it is actually a good app and their products a...</td>\n",
       "      <td>16.12.0</td>\n",
       "      <td>4</td>\n",
       "      <td>2025-02-23 20:41:06</td>\n",
       "      <td>0</td>\n",
       "    </tr>\n",
       "    <tr>\n",
       "      <th>81</th>\n",
       "      <td>What's going on, I'm stuck, I can't log in, I ...</td>\n",
       "      <td>16.12.0</td>\n",
       "      <td>2</td>\n",
       "      <td>2025-02-23 17:38:46</td>\n",
       "      <td>0</td>\n",
       "    </tr>\n",
       "    <tr>\n",
       "      <th>325</th>\n",
       "      <td>Jumia is the best online shopping option, thou...</td>\n",
       "      <td>16.12.0</td>\n",
       "      <td>5</td>\n",
       "      <td>2025-02-23 15:09:19</td>\n",
       "      <td>0</td>\n",
       "    </tr>\n",
       "    <tr>\n",
       "      <th>883</th>\n",
       "      <td>The platform is easy to use and I am waiting f...</td>\n",
       "      <td>16.9.0</td>\n",
       "      <td>5</td>\n",
       "      <td>2025-02-23 13:39:59</td>\n",
       "      <td>0</td>\n",
       "    </tr>\n",
       "  </tbody>\n",
       "</table>\n",
       "</div>"
      ],
      "text/plain": [
       "                                               content reviewCreatedVersion  \\\n",
       "305  It is totally useless everything there is so e...              16.12.0   \n",
       "977  it is actually a good app and their products a...              16.12.0   \n",
       "81   What's going on, I'm stuck, I can't log in, I ...              16.12.0   \n",
       "325  Jumia is the best online shopping option, thou...              16.12.0   \n",
       "883  The platform is easy to use and I am waiting f...               16.9.0   \n",
       "\n",
       "     score    Review_timestamp  thumbsUpCount  \n",
       "305      2 2025-02-23 21:17:54              0  \n",
       "977      4 2025-02-23 20:41:06              0  \n",
       "81       2 2025-02-23 17:38:46              0  \n",
       "325      5 2025-02-23 15:09:19              0  \n",
       "883      5 2025-02-23 13:39:59              0  "
      ]
     },
     "execution_count": 8,
     "metadata": {},
     "output_type": "execute_result"
    }
   ],
   "source": [
    "# drop the unnecesarry columns before we can start the EDA(Exploratory Data Analysis)# drop the unnecesarry columns before we can start the EDA(Exploratory Data Analysis)\n",
    "# Compare App versions \n",
    "\n",
    "Jumia_data1 = Jumia_data[[\"content\",\"reviewCreatedVersion\",\"score\",\"Review_timestamp\",\"thumbsUpCount\"]]\n",
    "\n",
    "# arranging the data starting from the newest to oldest\n",
    "\n",
    "Jumia_pointsort_data = Jumia_data1.sort_values(by=\"Review_timestamp\", ascending= False) \n",
    "Jumia_pointsort_data.head() "
   ]
  },
  {
   "cell_type": "markdown",
   "id": "8d483e26",
   "metadata": {},
   "source": [
    "##### Kilimall Reviews Web Scrapping, Data Importation and data description\n",
    "##### 1.Kilimall Web scrapping"
   ]
  },
  {
   "cell_type": "code",
   "execution_count": 9,
   "id": "70bf0866",
   "metadata": {},
   "outputs": [],
   "source": [
    "Kilimall, continuation_token = reviews(\n",
    "    'net.kilimall.shop',\n",
    "    sort = Sort.MOST_RELEVANT,\n",
    "    count = 1000,\n",
    "    filter_score_with = None  \n",
    ")"
   ]
  },
  {
   "cell_type": "markdown",
   "id": "06198de7",
   "metadata": {},
   "source": [
    "##### 2. Kilimall Data Import\n",
    "Converting Kilimall scrapped data to Data Frame(Structured data) for our analysis."
   ]
  },
  {
   "cell_type": "code",
   "execution_count": 10,
   "id": "ef0e5de4",
   "metadata": {},
   "outputs": [
    {
     "data": {
      "text/html": [
       "<div>\n",
       "<style scoped>\n",
       "    .dataframe tbody tr th:only-of-type {\n",
       "        vertical-align: middle;\n",
       "    }\n",
       "\n",
       "    .dataframe tbody tr th {\n",
       "        vertical-align: top;\n",
       "    }\n",
       "\n",
       "    .dataframe thead th {\n",
       "        text-align: right;\n",
       "    }\n",
       "</style>\n",
       "<table border=\"1\" class=\"dataframe\">\n",
       "  <thead>\n",
       "    <tr style=\"text-align: right;\">\n",
       "      <th></th>\n",
       "      <th>reviewId</th>\n",
       "      <th>userName</th>\n",
       "      <th>userImage</th>\n",
       "      <th>content</th>\n",
       "      <th>score</th>\n",
       "      <th>thumbsUpCount</th>\n",
       "      <th>reviewCreatedVersion</th>\n",
       "      <th>at</th>\n",
       "      <th>replyContent</th>\n",
       "      <th>repliedAt</th>\n",
       "      <th>appVersion</th>\n",
       "    </tr>\n",
       "  </thead>\n",
       "  <tbody>\n",
       "    <tr>\n",
       "      <th>0</th>\n",
       "      <td>bd8c3bdf-41e1-403f-933e-9e103638a82c</td>\n",
       "      <td>gabriel mchapi</td>\n",
       "      <td>https://play-lh.googleusercontent.com/a/ACg8oc...</td>\n",
       "      <td>I had a great experience being assisted by Mar...</td>\n",
       "      <td>5</td>\n",
       "      <td>27</td>\n",
       "      <td>5.8.0</td>\n",
       "      <td>2025-02-18 16:46:31</td>\n",
       "      <td>Thank you for your kind words! We're thrilled ...</td>\n",
       "      <td>2025-02-19 06:08:09</td>\n",
       "      <td>5.8.0</td>\n",
       "    </tr>\n",
       "    <tr>\n",
       "      <th>1</th>\n",
       "      <td>44884c9f-35ae-426a-9f9f-dd2c5fb17be7</td>\n",
       "      <td>Natasha Simiyu</td>\n",
       "      <td>https://play-lh.googleusercontent.com/a/ACg8oc...</td>\n",
       "      <td>Their systems overcharge. Had an order amounti...</td>\n",
       "      <td>1</td>\n",
       "      <td>53</td>\n",
       "      <td>5.6.2</td>\n",
       "      <td>2024-11-30 14:31:49</td>\n",
       "      <td>Dear customer,we are sorry you didn't have a g...</td>\n",
       "      <td>2024-12-03 06:05:19</td>\n",
       "      <td>5.6.2</td>\n",
       "    </tr>\n",
       "    <tr>\n",
       "      <th>2</th>\n",
       "      <td>79d4ae17-635f-4cdd-808a-b2a9608b39da</td>\n",
       "      <td>Anthonio lewarz</td>\n",
       "      <td>https://play-lh.googleusercontent.com/a-/ALV-U...</td>\n",
       "      <td>I have been using this app over five years, at...</td>\n",
       "      <td>1</td>\n",
       "      <td>0</td>\n",
       "      <td>5.7.0</td>\n",
       "      <td>2025-02-03 20:55:07</td>\n",
       "      <td>Dear Customer,thank you for your support over ...</td>\n",
       "      <td>2025-02-06 12:06:09</td>\n",
       "      <td>5.7.0</td>\n",
       "    </tr>\n",
       "    <tr>\n",
       "      <th>3</th>\n",
       "      <td>492cdd0c-55c6-42c0-8baa-e79ac3f6c8e9</td>\n",
       "      <td>Oseko Clifton</td>\n",
       "      <td>https://play-lh.googleusercontent.com/a-/ALV-U...</td>\n",
       "      <td>Very nice developers. System to user interface...</td>\n",
       "      <td>5</td>\n",
       "      <td>5</td>\n",
       "      <td>5.8.0</td>\n",
       "      <td>2025-02-17 10:49:11</td>\n",
       "      <td>None</td>\n",
       "      <td>NaT</td>\n",
       "      <td>5.8.0</td>\n",
       "    </tr>\n",
       "    <tr>\n",
       "      <th>4</th>\n",
       "      <td>5596f1d2-b2d9-475b-b410-8fa43085e426</td>\n",
       "      <td>raphael wan. Mwaura</td>\n",
       "      <td>https://play-lh.googleusercontent.com/a/ACg8oc...</td>\n",
       "      <td>I've had the worst experience ever since the i...</td>\n",
       "      <td>1</td>\n",
       "      <td>1</td>\n",
       "      <td>5.8.0</td>\n",
       "      <td>2025-02-01 09:16:21</td>\n",
       "      <td>Dear customer,we are sorry you didn't have a g...</td>\n",
       "      <td>2025-02-25 10:48:31</td>\n",
       "      <td>5.8.0</td>\n",
       "    </tr>\n",
       "  </tbody>\n",
       "</table>\n",
       "</div>"
      ],
      "text/plain": [
       "                               reviewId             userName  \\\n",
       "0  bd8c3bdf-41e1-403f-933e-9e103638a82c       gabriel mchapi   \n",
       "1  44884c9f-35ae-426a-9f9f-dd2c5fb17be7       Natasha Simiyu   \n",
       "2  79d4ae17-635f-4cdd-808a-b2a9608b39da      Anthonio lewarz   \n",
       "3  492cdd0c-55c6-42c0-8baa-e79ac3f6c8e9        Oseko Clifton   \n",
       "4  5596f1d2-b2d9-475b-b410-8fa43085e426  raphael wan. Mwaura   \n",
       "\n",
       "                                           userImage  \\\n",
       "0  https://play-lh.googleusercontent.com/a/ACg8oc...   \n",
       "1  https://play-lh.googleusercontent.com/a/ACg8oc...   \n",
       "2  https://play-lh.googleusercontent.com/a-/ALV-U...   \n",
       "3  https://play-lh.googleusercontent.com/a-/ALV-U...   \n",
       "4  https://play-lh.googleusercontent.com/a/ACg8oc...   \n",
       "\n",
       "                                             content  score  thumbsUpCount  \\\n",
       "0  I had a great experience being assisted by Mar...      5             27   \n",
       "1  Their systems overcharge. Had an order amounti...      1             53   \n",
       "2  I have been using this app over five years, at...      1              0   \n",
       "3  Very nice developers. System to user interface...      5              5   \n",
       "4  I've had the worst experience ever since the i...      1              1   \n",
       "\n",
       "  reviewCreatedVersion                  at  \\\n",
       "0                5.8.0 2025-02-18 16:46:31   \n",
       "1                5.6.2 2024-11-30 14:31:49   \n",
       "2                5.7.0 2025-02-03 20:55:07   \n",
       "3                5.8.0 2025-02-17 10:49:11   \n",
       "4                5.8.0 2025-02-01 09:16:21   \n",
       "\n",
       "                                        replyContent           repliedAt  \\\n",
       "0  Thank you for your kind words! We're thrilled ... 2025-02-19 06:08:09   \n",
       "1  Dear customer,we are sorry you didn't have a g... 2024-12-03 06:05:19   \n",
       "2  Dear Customer,thank you for your support over ... 2025-02-06 12:06:09   \n",
       "3                                               None                 NaT   \n",
       "4  Dear customer,we are sorry you didn't have a g... 2025-02-25 10:48:31   \n",
       "\n",
       "  appVersion  \n",
       "0      5.8.0  \n",
       "1      5.6.2  \n",
       "2      5.7.0  \n",
       "3      5.8.0  \n",
       "4      5.8.0  "
      ]
     },
     "execution_count": 10,
     "metadata": {},
     "output_type": "execute_result"
    }
   ],
   "source": [
    "#Convert into a data frame\n",
    "\n",
    "Kilimall_rawdata = pd.DataFrame(np.array(Kilimall), columns = ['review'])\n",
    "Kilimall_rawdata = Kilimall_rawdata.join(pd.DataFrame(Kilimall_rawdata.pop('review').tolist()))\n",
    "Kilimall_rawdata.head()\n",
    "     "
   ]
  },
  {
   "cell_type": "code",
   "execution_count": 11,
   "id": "85b2d08d",
   "metadata": {},
   "outputs": [
    {
     "data": {
      "text/html": [
       "<div>\n",
       "<style scoped>\n",
       "    .dataframe tbody tr th:only-of-type {\n",
       "        vertical-align: middle;\n",
       "    }\n",
       "\n",
       "    .dataframe tbody tr th {\n",
       "        vertical-align: top;\n",
       "    }\n",
       "\n",
       "    .dataframe thead th {\n",
       "        text-align: right;\n",
       "    }\n",
       "</style>\n",
       "<table border=\"1\" class=\"dataframe\">\n",
       "  <thead>\n",
       "    <tr style=\"text-align: right;\">\n",
       "      <th></th>\n",
       "      <th>reviewId</th>\n",
       "      <th>userName</th>\n",
       "      <th>userImage</th>\n",
       "      <th>content</th>\n",
       "      <th>score</th>\n",
       "      <th>thumbsUpCount</th>\n",
       "      <th>reviewCreatedVersion</th>\n",
       "      <th>Review_timestamp</th>\n",
       "      <th>replyContent</th>\n",
       "      <th>repliedAt</th>\n",
       "      <th>appVersion</th>\n",
       "    </tr>\n",
       "  </thead>\n",
       "  <tbody>\n",
       "    <tr>\n",
       "      <th>0</th>\n",
       "      <td>bd8c3bdf-41e1-403f-933e-9e103638a82c</td>\n",
       "      <td>gabriel mchapi</td>\n",
       "      <td>https://play-lh.googleusercontent.com/a/ACg8oc...</td>\n",
       "      <td>I had a great experience being assisted by Mar...</td>\n",
       "      <td>5</td>\n",
       "      <td>27</td>\n",
       "      <td>5.8.0</td>\n",
       "      <td>2025-02-18 16:46:31</td>\n",
       "      <td>Thank you for your kind words! We're thrilled ...</td>\n",
       "      <td>2025-02-19 06:08:09</td>\n",
       "      <td>5.8.0</td>\n",
       "    </tr>\n",
       "    <tr>\n",
       "      <th>1</th>\n",
       "      <td>44884c9f-35ae-426a-9f9f-dd2c5fb17be7</td>\n",
       "      <td>Natasha Simiyu</td>\n",
       "      <td>https://play-lh.googleusercontent.com/a/ACg8oc...</td>\n",
       "      <td>Their systems overcharge. Had an order amounti...</td>\n",
       "      <td>1</td>\n",
       "      <td>53</td>\n",
       "      <td>5.6.2</td>\n",
       "      <td>2024-11-30 14:31:49</td>\n",
       "      <td>Dear customer,we are sorry you didn't have a g...</td>\n",
       "      <td>2024-12-03 06:05:19</td>\n",
       "      <td>5.6.2</td>\n",
       "    </tr>\n",
       "    <tr>\n",
       "      <th>2</th>\n",
       "      <td>79d4ae17-635f-4cdd-808a-b2a9608b39da</td>\n",
       "      <td>Anthonio lewarz</td>\n",
       "      <td>https://play-lh.googleusercontent.com/a-/ALV-U...</td>\n",
       "      <td>I have been using this app over five years, at...</td>\n",
       "      <td>1</td>\n",
       "      <td>0</td>\n",
       "      <td>5.7.0</td>\n",
       "      <td>2025-02-03 20:55:07</td>\n",
       "      <td>Dear Customer,thank you for your support over ...</td>\n",
       "      <td>2025-02-06 12:06:09</td>\n",
       "      <td>5.7.0</td>\n",
       "    </tr>\n",
       "    <tr>\n",
       "      <th>3</th>\n",
       "      <td>492cdd0c-55c6-42c0-8baa-e79ac3f6c8e9</td>\n",
       "      <td>Oseko Clifton</td>\n",
       "      <td>https://play-lh.googleusercontent.com/a-/ALV-U...</td>\n",
       "      <td>Very nice developers. System to user interface...</td>\n",
       "      <td>5</td>\n",
       "      <td>5</td>\n",
       "      <td>5.8.0</td>\n",
       "      <td>2025-02-17 10:49:11</td>\n",
       "      <td>None</td>\n",
       "      <td>NaT</td>\n",
       "      <td>5.8.0</td>\n",
       "    </tr>\n",
       "    <tr>\n",
       "      <th>4</th>\n",
       "      <td>5596f1d2-b2d9-475b-b410-8fa43085e426</td>\n",
       "      <td>raphael wan. Mwaura</td>\n",
       "      <td>https://play-lh.googleusercontent.com/a/ACg8oc...</td>\n",
       "      <td>I've had the worst experience ever since the i...</td>\n",
       "      <td>1</td>\n",
       "      <td>1</td>\n",
       "      <td>5.8.0</td>\n",
       "      <td>2025-02-01 09:16:21</td>\n",
       "      <td>Dear customer,we are sorry you didn't have a g...</td>\n",
       "      <td>2025-02-25 10:48:31</td>\n",
       "      <td>5.8.0</td>\n",
       "    </tr>\n",
       "  </tbody>\n",
       "</table>\n",
       "</div>"
      ],
      "text/plain": [
       "                               reviewId             userName  \\\n",
       "0  bd8c3bdf-41e1-403f-933e-9e103638a82c       gabriel mchapi   \n",
       "1  44884c9f-35ae-426a-9f9f-dd2c5fb17be7       Natasha Simiyu   \n",
       "2  79d4ae17-635f-4cdd-808a-b2a9608b39da      Anthonio lewarz   \n",
       "3  492cdd0c-55c6-42c0-8baa-e79ac3f6c8e9        Oseko Clifton   \n",
       "4  5596f1d2-b2d9-475b-b410-8fa43085e426  raphael wan. Mwaura   \n",
       "\n",
       "                                           userImage  \\\n",
       "0  https://play-lh.googleusercontent.com/a/ACg8oc...   \n",
       "1  https://play-lh.googleusercontent.com/a/ACg8oc...   \n",
       "2  https://play-lh.googleusercontent.com/a-/ALV-U...   \n",
       "3  https://play-lh.googleusercontent.com/a-/ALV-U...   \n",
       "4  https://play-lh.googleusercontent.com/a/ACg8oc...   \n",
       "\n",
       "                                             content  score  thumbsUpCount  \\\n",
       "0  I had a great experience being assisted by Mar...      5             27   \n",
       "1  Their systems overcharge. Had an order amounti...      1             53   \n",
       "2  I have been using this app over five years, at...      1              0   \n",
       "3  Very nice developers. System to user interface...      5              5   \n",
       "4  I've had the worst experience ever since the i...      1              1   \n",
       "\n",
       "  reviewCreatedVersion    Review_timestamp  \\\n",
       "0                5.8.0 2025-02-18 16:46:31   \n",
       "1                5.6.2 2024-11-30 14:31:49   \n",
       "2                5.7.0 2025-02-03 20:55:07   \n",
       "3                5.8.0 2025-02-17 10:49:11   \n",
       "4                5.8.0 2025-02-01 09:16:21   \n",
       "\n",
       "                                        replyContent           repliedAt  \\\n",
       "0  Thank you for your kind words! We're thrilled ... 2025-02-19 06:08:09   \n",
       "1  Dear customer,we are sorry you didn't have a g... 2024-12-03 06:05:19   \n",
       "2  Dear Customer,thank you for your support over ... 2025-02-06 12:06:09   \n",
       "3                                               None                 NaT   \n",
       "4  Dear customer,we are sorry you didn't have a g... 2025-02-25 10:48:31   \n",
       "\n",
       "  appVersion  \n",
       "0      5.8.0  \n",
       "1      5.6.2  \n",
       "2      5.7.0  \n",
       "3      5.8.0  \n",
       "4      5.8.0  "
      ]
     },
     "execution_count": 11,
     "metadata": {},
     "output_type": "execute_result"
    }
   ],
   "source": [
    "# renaming the at column\n",
    "Kilimall_data = pd.DataFrame(Kilimall_rawdata)  # Creating a DataFrame\n",
    "Kilimall_data.rename(columns={'at': 'Review_timestamp'}, inplace=True)\n",
    "Kilimall_data.head()"
   ]
  },
  {
   "cell_type": "markdown",
   "id": "8c4e3096",
   "metadata": {},
   "source": [
    "##### 3. Kilimall Data Description"
   ]
  },
  {
   "cell_type": "code",
   "execution_count": 12,
   "id": "a124cf8a",
   "metadata": {},
   "outputs": [
    {
     "name": "stdout",
     "output_type": "stream",
     "text": [
      "(1000, 11)\n",
      "<class 'pandas.core.frame.DataFrame'>\n",
      "RangeIndex: 1000 entries, 0 to 999\n",
      "Data columns (total 11 columns):\n",
      " #   Column                Non-Null Count  Dtype         \n",
      "---  ------                --------------  -----         \n",
      " 0   reviewId              1000 non-null   object        \n",
      " 1   userName              1000 non-null   object        \n",
      " 2   userImage             1000 non-null   object        \n",
      " 3   content               1000 non-null   object        \n",
      " 4   score                 1000 non-null   int64         \n",
      " 5   thumbsUpCount         1000 non-null   int64         \n",
      " 6   reviewCreatedVersion  934 non-null    object        \n",
      " 7   Review_timestamp      1000 non-null   datetime64[ns]\n",
      " 8   replyContent          890 non-null    object        \n",
      " 9   repliedAt             890 non-null    datetime64[ns]\n",
      " 10  appVersion            934 non-null    object        \n",
      "dtypes: datetime64[ns](2), int64(2), object(7)\n",
      "memory usage: 86.1+ KB\n"
     ]
    },
    {
     "data": {
      "text/plain": [
       "1000"
      ]
     },
     "execution_count": 12,
     "metadata": {},
     "output_type": "execute_result"
    }
   ],
   "source": [
    "# Data Description \n",
    "print(Kilimall_data.shape)\n",
    "Kilimall_data.info()\n",
    "\n",
    "len(Kilimall_data.index) # checking the number of observations for our dataset"
   ]
  },
  {
   "cell_type": "code",
   "execution_count": 13,
   "id": "0f6d984e",
   "metadata": {},
   "outputs": [
    {
     "data": {
      "text/html": [
       "<div>\n",
       "<style scoped>\n",
       "    .dataframe tbody tr th:only-of-type {\n",
       "        vertical-align: middle;\n",
       "    }\n",
       "\n",
       "    .dataframe tbody tr th {\n",
       "        vertical-align: top;\n",
       "    }\n",
       "\n",
       "    .dataframe thead th {\n",
       "        text-align: right;\n",
       "    }\n",
       "</style>\n",
       "<table border=\"1\" class=\"dataframe\">\n",
       "  <thead>\n",
       "    <tr style=\"text-align: right;\">\n",
       "      <th></th>\n",
       "      <th>content</th>\n",
       "      <th>reviewCreatedVersion</th>\n",
       "      <th>score</th>\n",
       "      <th>Review_timestamp</th>\n",
       "      <th>thumbsUpCount</th>\n",
       "    </tr>\n",
       "  </thead>\n",
       "  <tbody>\n",
       "    <tr>\n",
       "      <th>522</th>\n",
       "      <td>their products arrive right on time and work p...</td>\n",
       "      <td>5.8.0</td>\n",
       "      <td>5</td>\n",
       "      <td>2025-02-23 19:49:53</td>\n",
       "      <td>0</td>\n",
       "    </tr>\n",
       "    <tr>\n",
       "      <th>519</th>\n",
       "      <td>fast, genuine and reliable</td>\n",
       "      <td>5.8.0</td>\n",
       "      <td>5</td>\n",
       "      <td>2025-02-23 18:30:40</td>\n",
       "      <td>0</td>\n",
       "    </tr>\n",
       "    <tr>\n",
       "      <th>162</th>\n",
       "      <td>the service is so pleasant and the goods match...</td>\n",
       "      <td>5.8.0</td>\n",
       "      <td>5</td>\n",
       "      <td>2025-02-23 14:21:47</td>\n",
       "      <td>0</td>\n",
       "    </tr>\n",
       "    <tr>\n",
       "      <th>253</th>\n",
       "      <td>kilimall the best online shopping site I've ev...</td>\n",
       "      <td>5.8.0</td>\n",
       "      <td>5</td>\n",
       "      <td>2025-02-23 12:31:27</td>\n",
       "      <td>0</td>\n",
       "    </tr>\n",
       "    <tr>\n",
       "      <th>521</th>\n",
       "      <td>Best online shopping platform it doesn't disap...</td>\n",
       "      <td>5.8.0</td>\n",
       "      <td>5</td>\n",
       "      <td>2025-02-23 07:56:19</td>\n",
       "      <td>0</td>\n",
       "    </tr>\n",
       "  </tbody>\n",
       "</table>\n",
       "</div>"
      ],
      "text/plain": [
       "                                               content reviewCreatedVersion  \\\n",
       "522  their products arrive right on time and work p...                5.8.0   \n",
       "519                         fast, genuine and reliable                5.8.0   \n",
       "162  the service is so pleasant and the goods match...                5.8.0   \n",
       "253  kilimall the best online shopping site I've ev...                5.8.0   \n",
       "521  Best online shopping platform it doesn't disap...                5.8.0   \n",
       "\n",
       "     score    Review_timestamp  thumbsUpCount  \n",
       "522      5 2025-02-23 19:49:53              0  \n",
       "519      5 2025-02-23 18:30:40              0  \n",
       "162      5 2025-02-23 14:21:47              0  \n",
       "253      5 2025-02-23 12:31:27              0  \n",
       "521      5 2025-02-23 07:56:19              0  "
      ]
     },
     "execution_count": 13,
     "metadata": {},
     "output_type": "execute_result"
    }
   ],
   "source": [
    "# drop the unnecesarry columns before we can start the EDA(Exploratory Data Analysis)# drop the unnecesarry columns before we can start the EDA(Exploratory Data Analysis)\n",
    "\n",
    "Kilimall_data1 = Kilimall_data[[\"content\",\"reviewCreatedVersion\",\"score\",\"Review_timestamp\",\"thumbsUpCount\"]]\n",
    "\n",
    "# arranging the data starting from the newest to oldest\n",
    "\n",
    "Kilimall_pointsort_data = Kilimall_data1.sort_values(by=\"Review_timestamp\", ascending= False) \n",
    "Kilimall_pointsort_data.head() "
   ]
  },
  {
   "cell_type": "markdown",
   "id": "3393be44",
   "metadata": {},
   "source": [
    "##### Jiji Reviews Web Scrapping, Data Importation and data description\n",
    "##### 1. Jiji Web scrapping"
   ]
  },
  {
   "cell_type": "code",
   "execution_count": 14,
   "id": "3cc23d23",
   "metadata": {},
   "outputs": [],
   "source": [
    "Jiji, continuation_token = reviews(\n",
    "    'com.olx.ssa.ke',\n",
    "    sort = Sort.MOST_RELEVANT,\n",
    "    #count = 1000,\n",
    "    filter_score_with = None   \n",
    ")"
   ]
  },
  {
   "cell_type": "markdown",
   "id": "851e5df8",
   "metadata": {},
   "source": [
    "##### 2. Jiji Data Import\n",
    "Converting Jiji scrapped data to Data Frame(Structured data) for our analysis."
   ]
  },
  {
   "cell_type": "code",
   "execution_count": 15,
   "id": "24ca579b",
   "metadata": {},
   "outputs": [
    {
     "data": {
      "text/html": [
       "<div>\n",
       "<style scoped>\n",
       "    .dataframe tbody tr th:only-of-type {\n",
       "        vertical-align: middle;\n",
       "    }\n",
       "\n",
       "    .dataframe tbody tr th {\n",
       "        vertical-align: top;\n",
       "    }\n",
       "\n",
       "    .dataframe thead th {\n",
       "        text-align: right;\n",
       "    }\n",
       "</style>\n",
       "<table border=\"1\" class=\"dataframe\">\n",
       "  <thead>\n",
       "    <tr style=\"text-align: right;\">\n",
       "      <th></th>\n",
       "      <th>reviewId</th>\n",
       "      <th>userName</th>\n",
       "      <th>userImage</th>\n",
       "      <th>content</th>\n",
       "      <th>score</th>\n",
       "      <th>thumbsUpCount</th>\n",
       "      <th>reviewCreatedVersion</th>\n",
       "      <th>at</th>\n",
       "      <th>replyContent</th>\n",
       "      <th>repliedAt</th>\n",
       "      <th>appVersion</th>\n",
       "    </tr>\n",
       "  </thead>\n",
       "  <tbody>\n",
       "    <tr>\n",
       "      <th>0</th>\n",
       "      <td>62bf0b3e-9424-4da0-a606-31de8145642d</td>\n",
       "      <td>djura 127</td>\n",
       "      <td>https://play-lh.googleusercontent.com/a/ACg8oc...</td>\n",
       "      <td>Good day, There is something seriously wrong w...</td>\n",
       "      <td>1</td>\n",
       "      <td>15</td>\n",
       "      <td>4.10.3.2</td>\n",
       "      <td>2024-12-24 18:03:13</td>\n",
       "      <td>Thanks for your feedback! We are working const...</td>\n",
       "      <td>2025-01-08 16:48:31</td>\n",
       "      <td>4.10.3.2</td>\n",
       "    </tr>\n",
       "    <tr>\n",
       "      <th>1</th>\n",
       "      <td>afc1c1ab-38c9-433d-9a17-a33dd8634135</td>\n",
       "      <td>peter mbogoro</td>\n",
       "      <td>https://play-lh.googleusercontent.com/a-/ALV-U...</td>\n",
       "      <td>It's the best marketing for vehicles. Coz what...</td>\n",
       "      <td>5</td>\n",
       "      <td>73</td>\n",
       "      <td>4.10.3.2</td>\n",
       "      <td>2025-01-31 09:24:50</td>\n",
       "      <td>We’re grateful for your feedback! Your support...</td>\n",
       "      <td>2025-01-31 17:14:45</td>\n",
       "      <td>4.10.3.2</td>\n",
       "    </tr>\n",
       "    <tr>\n",
       "      <th>2</th>\n",
       "      <td>ef009bf4-cfa9-4242-9532-e38a9bb50ada</td>\n",
       "      <td>steve njuguna</td>\n",
       "      <td>https://play-lh.googleusercontent.com/a/ACg8oc...</td>\n",
       "      <td>The app is actually really nice and simple to ...</td>\n",
       "      <td>5</td>\n",
       "      <td>46</td>\n",
       "      <td>4.10.4.0</td>\n",
       "      <td>2025-02-13 02:44:47</td>\n",
       "      <td>None</td>\n",
       "      <td>NaT</td>\n",
       "      <td>4.10.4.0</td>\n",
       "    </tr>\n",
       "    <tr>\n",
       "      <th>3</th>\n",
       "      <td>1f5958d8-e297-4b0b-81f4-ce9f96df19a6</td>\n",
       "      <td>Bernard Mpara</td>\n",
       "      <td>https://play-lh.googleusercontent.com/a-/ALV-U...</td>\n",
       "      <td>Good experience, just a question on why the Ap...</td>\n",
       "      <td>5</td>\n",
       "      <td>1</td>\n",
       "      <td>4.10.4.0</td>\n",
       "      <td>2025-02-09 19:11:52</td>\n",
       "      <td>None</td>\n",
       "      <td>NaT</td>\n",
       "      <td>4.10.4.0</td>\n",
       "    </tr>\n",
       "    <tr>\n",
       "      <th>4</th>\n",
       "      <td>b0be6ca7-e5ff-4da3-b80d-ec477b756a72</td>\n",
       "      <td>Sylviah Nyaboke</td>\n",
       "      <td>https://play-lh.googleusercontent.com/a/ACg8oc...</td>\n",
       "      <td>I am just new on jiji but honestly I would say...</td>\n",
       "      <td>5</td>\n",
       "      <td>9</td>\n",
       "      <td>4.10.4.0</td>\n",
       "      <td>2025-02-10 18:12:14</td>\n",
       "      <td>None</td>\n",
       "      <td>NaT</td>\n",
       "      <td>4.10.4.0</td>\n",
       "    </tr>\n",
       "  </tbody>\n",
       "</table>\n",
       "</div>"
      ],
      "text/plain": [
       "                               reviewId         userName  \\\n",
       "0  62bf0b3e-9424-4da0-a606-31de8145642d        djura 127   \n",
       "1  afc1c1ab-38c9-433d-9a17-a33dd8634135    peter mbogoro   \n",
       "2  ef009bf4-cfa9-4242-9532-e38a9bb50ada    steve njuguna   \n",
       "3  1f5958d8-e297-4b0b-81f4-ce9f96df19a6    Bernard Mpara   \n",
       "4  b0be6ca7-e5ff-4da3-b80d-ec477b756a72  Sylviah Nyaboke   \n",
       "\n",
       "                                           userImage  \\\n",
       "0  https://play-lh.googleusercontent.com/a/ACg8oc...   \n",
       "1  https://play-lh.googleusercontent.com/a-/ALV-U...   \n",
       "2  https://play-lh.googleusercontent.com/a/ACg8oc...   \n",
       "3  https://play-lh.googleusercontent.com/a-/ALV-U...   \n",
       "4  https://play-lh.googleusercontent.com/a/ACg8oc...   \n",
       "\n",
       "                                             content  score  thumbsUpCount  \\\n",
       "0  Good day, There is something seriously wrong w...      1             15   \n",
       "1  It's the best marketing for vehicles. Coz what...      5             73   \n",
       "2  The app is actually really nice and simple to ...      5             46   \n",
       "3  Good experience, just a question on why the Ap...      5              1   \n",
       "4  I am just new on jiji but honestly I would say...      5              9   \n",
       "\n",
       "  reviewCreatedVersion                  at  \\\n",
       "0             4.10.3.2 2024-12-24 18:03:13   \n",
       "1             4.10.3.2 2025-01-31 09:24:50   \n",
       "2             4.10.4.0 2025-02-13 02:44:47   \n",
       "3             4.10.4.0 2025-02-09 19:11:52   \n",
       "4             4.10.4.0 2025-02-10 18:12:14   \n",
       "\n",
       "                                        replyContent           repliedAt  \\\n",
       "0  Thanks for your feedback! We are working const... 2025-01-08 16:48:31   \n",
       "1  We’re grateful for your feedback! Your support... 2025-01-31 17:14:45   \n",
       "2                                               None                 NaT   \n",
       "3                                               None                 NaT   \n",
       "4                                               None                 NaT   \n",
       "\n",
       "  appVersion  \n",
       "0   4.10.3.2  \n",
       "1   4.10.3.2  \n",
       "2   4.10.4.0  \n",
       "3   4.10.4.0  \n",
       "4   4.10.4.0  "
      ]
     },
     "execution_count": 15,
     "metadata": {},
     "output_type": "execute_result"
    }
   ],
   "source": [
    "#Convert into a data frame\n",
    "\n",
    "Jiji_rawdata = pd.DataFrame(np.array(Jiji), columns = ['review'])\n",
    "Jiji_rawdata = Jiji_rawdata.join(pd.DataFrame(Jiji_rawdata.pop('review').tolist()))\n",
    "Jiji_rawdata.head()\n",
    "     "
   ]
  },
  {
   "cell_type": "code",
   "execution_count": 16,
   "id": "a50b5ed4",
   "metadata": {},
   "outputs": [
    {
     "data": {
      "text/html": [
       "<div>\n",
       "<style scoped>\n",
       "    .dataframe tbody tr th:only-of-type {\n",
       "        vertical-align: middle;\n",
       "    }\n",
       "\n",
       "    .dataframe tbody tr th {\n",
       "        vertical-align: top;\n",
       "    }\n",
       "\n",
       "    .dataframe thead th {\n",
       "        text-align: right;\n",
       "    }\n",
       "</style>\n",
       "<table border=\"1\" class=\"dataframe\">\n",
       "  <thead>\n",
       "    <tr style=\"text-align: right;\">\n",
       "      <th></th>\n",
       "      <th>reviewId</th>\n",
       "      <th>userName</th>\n",
       "      <th>userImage</th>\n",
       "      <th>content</th>\n",
       "      <th>score</th>\n",
       "      <th>thumbsUpCount</th>\n",
       "      <th>reviewCreatedVersion</th>\n",
       "      <th>Review_timestamp</th>\n",
       "      <th>replyContent</th>\n",
       "      <th>repliedAt</th>\n",
       "      <th>appVersion</th>\n",
       "    </tr>\n",
       "  </thead>\n",
       "  <tbody>\n",
       "    <tr>\n",
       "      <th>0</th>\n",
       "      <td>62bf0b3e-9424-4da0-a606-31de8145642d</td>\n",
       "      <td>djura 127</td>\n",
       "      <td>https://play-lh.googleusercontent.com/a/ACg8oc...</td>\n",
       "      <td>Good day, There is something seriously wrong w...</td>\n",
       "      <td>1</td>\n",
       "      <td>15</td>\n",
       "      <td>4.10.3.2</td>\n",
       "      <td>2024-12-24 18:03:13</td>\n",
       "      <td>Thanks for your feedback! We are working const...</td>\n",
       "      <td>2025-01-08 16:48:31</td>\n",
       "      <td>4.10.3.2</td>\n",
       "    </tr>\n",
       "    <tr>\n",
       "      <th>1</th>\n",
       "      <td>afc1c1ab-38c9-433d-9a17-a33dd8634135</td>\n",
       "      <td>peter mbogoro</td>\n",
       "      <td>https://play-lh.googleusercontent.com/a-/ALV-U...</td>\n",
       "      <td>It's the best marketing for vehicles. Coz what...</td>\n",
       "      <td>5</td>\n",
       "      <td>73</td>\n",
       "      <td>4.10.3.2</td>\n",
       "      <td>2025-01-31 09:24:50</td>\n",
       "      <td>We’re grateful for your feedback! Your support...</td>\n",
       "      <td>2025-01-31 17:14:45</td>\n",
       "      <td>4.10.3.2</td>\n",
       "    </tr>\n",
       "    <tr>\n",
       "      <th>2</th>\n",
       "      <td>ef009bf4-cfa9-4242-9532-e38a9bb50ada</td>\n",
       "      <td>steve njuguna</td>\n",
       "      <td>https://play-lh.googleusercontent.com/a/ACg8oc...</td>\n",
       "      <td>The app is actually really nice and simple to ...</td>\n",
       "      <td>5</td>\n",
       "      <td>46</td>\n",
       "      <td>4.10.4.0</td>\n",
       "      <td>2025-02-13 02:44:47</td>\n",
       "      <td>None</td>\n",
       "      <td>NaT</td>\n",
       "      <td>4.10.4.0</td>\n",
       "    </tr>\n",
       "    <tr>\n",
       "      <th>3</th>\n",
       "      <td>1f5958d8-e297-4b0b-81f4-ce9f96df19a6</td>\n",
       "      <td>Bernard Mpara</td>\n",
       "      <td>https://play-lh.googleusercontent.com/a-/ALV-U...</td>\n",
       "      <td>Good experience, just a question on why the Ap...</td>\n",
       "      <td>5</td>\n",
       "      <td>1</td>\n",
       "      <td>4.10.4.0</td>\n",
       "      <td>2025-02-09 19:11:52</td>\n",
       "      <td>None</td>\n",
       "      <td>NaT</td>\n",
       "      <td>4.10.4.0</td>\n",
       "    </tr>\n",
       "    <tr>\n",
       "      <th>4</th>\n",
       "      <td>b0be6ca7-e5ff-4da3-b80d-ec477b756a72</td>\n",
       "      <td>Sylviah Nyaboke</td>\n",
       "      <td>https://play-lh.googleusercontent.com/a/ACg8oc...</td>\n",
       "      <td>I am just new on jiji but honestly I would say...</td>\n",
       "      <td>5</td>\n",
       "      <td>9</td>\n",
       "      <td>4.10.4.0</td>\n",
       "      <td>2025-02-10 18:12:14</td>\n",
       "      <td>None</td>\n",
       "      <td>NaT</td>\n",
       "      <td>4.10.4.0</td>\n",
       "    </tr>\n",
       "  </tbody>\n",
       "</table>\n",
       "</div>"
      ],
      "text/plain": [
       "                               reviewId         userName  \\\n",
       "0  62bf0b3e-9424-4da0-a606-31de8145642d        djura 127   \n",
       "1  afc1c1ab-38c9-433d-9a17-a33dd8634135    peter mbogoro   \n",
       "2  ef009bf4-cfa9-4242-9532-e38a9bb50ada    steve njuguna   \n",
       "3  1f5958d8-e297-4b0b-81f4-ce9f96df19a6    Bernard Mpara   \n",
       "4  b0be6ca7-e5ff-4da3-b80d-ec477b756a72  Sylviah Nyaboke   \n",
       "\n",
       "                                           userImage  \\\n",
       "0  https://play-lh.googleusercontent.com/a/ACg8oc...   \n",
       "1  https://play-lh.googleusercontent.com/a-/ALV-U...   \n",
       "2  https://play-lh.googleusercontent.com/a/ACg8oc...   \n",
       "3  https://play-lh.googleusercontent.com/a-/ALV-U...   \n",
       "4  https://play-lh.googleusercontent.com/a/ACg8oc...   \n",
       "\n",
       "                                             content  score  thumbsUpCount  \\\n",
       "0  Good day, There is something seriously wrong w...      1             15   \n",
       "1  It's the best marketing for vehicles. Coz what...      5             73   \n",
       "2  The app is actually really nice and simple to ...      5             46   \n",
       "3  Good experience, just a question on why the Ap...      5              1   \n",
       "4  I am just new on jiji but honestly I would say...      5              9   \n",
       "\n",
       "  reviewCreatedVersion    Review_timestamp  \\\n",
       "0             4.10.3.2 2024-12-24 18:03:13   \n",
       "1             4.10.3.2 2025-01-31 09:24:50   \n",
       "2             4.10.4.0 2025-02-13 02:44:47   \n",
       "3             4.10.4.0 2025-02-09 19:11:52   \n",
       "4             4.10.4.0 2025-02-10 18:12:14   \n",
       "\n",
       "                                        replyContent           repliedAt  \\\n",
       "0  Thanks for your feedback! We are working const... 2025-01-08 16:48:31   \n",
       "1  We’re grateful for your feedback! Your support... 2025-01-31 17:14:45   \n",
       "2                                               None                 NaT   \n",
       "3                                               None                 NaT   \n",
       "4                                               None                 NaT   \n",
       "\n",
       "  appVersion  \n",
       "0   4.10.3.2  \n",
       "1   4.10.3.2  \n",
       "2   4.10.4.0  \n",
       "3   4.10.4.0  \n",
       "4   4.10.4.0  "
      ]
     },
     "execution_count": 16,
     "metadata": {},
     "output_type": "execute_result"
    }
   ],
   "source": [
    "# renaming the at column\n",
    "Jiji_data = pd.DataFrame(Jiji_rawdata)  # Creating a DataFrame\n",
    "Jiji_data.rename(columns={'at': 'Review_timestamp'}, inplace=True)\n",
    "Jiji_data.head()"
   ]
  },
  {
   "cell_type": "markdown",
   "id": "10d69409",
   "metadata": {},
   "source": [
    "##### 3. Jiji Data Description"
   ]
  },
  {
   "cell_type": "code",
   "execution_count": 17,
   "id": "cb536a9f",
   "metadata": {},
   "outputs": [
    {
     "name": "stdout",
     "output_type": "stream",
     "text": [
      "(100, 11)\n",
      "<class 'pandas.core.frame.DataFrame'>\n",
      "RangeIndex: 100 entries, 0 to 99\n",
      "Data columns (total 11 columns):\n",
      " #   Column                Non-Null Count  Dtype         \n",
      "---  ------                --------------  -----         \n",
      " 0   reviewId              100 non-null    object        \n",
      " 1   userName              100 non-null    object        \n",
      " 2   userImage             100 non-null    object        \n",
      " 3   content               100 non-null    object        \n",
      " 4   score                 100 non-null    int64         \n",
      " 5   thumbsUpCount         100 non-null    int64         \n",
      " 6   reviewCreatedVersion  95 non-null     object        \n",
      " 7   Review_timestamp      100 non-null    datetime64[ns]\n",
      " 8   replyContent          85 non-null     object        \n",
      " 9   repliedAt             85 non-null     datetime64[ns]\n",
      " 10  appVersion            95 non-null     object        \n",
      "dtypes: datetime64[ns](2), int64(2), object(7)\n",
      "memory usage: 8.7+ KB\n"
     ]
    },
    {
     "data": {
      "text/plain": [
       "100"
      ]
     },
     "execution_count": 17,
     "metadata": {},
     "output_type": "execute_result"
    }
   ],
   "source": [
    "# Data Description \n",
    "print(Jiji_data.shape)\n",
    "Jiji_data.info()\n",
    "\n",
    "len(Jiji_data.index) # checking the number of observations for our dataset"
   ]
  },
  {
   "cell_type": "code",
   "execution_count": 18,
   "id": "3767b741",
   "metadata": {},
   "outputs": [
    {
     "data": {
      "text/html": [
       "<div>\n",
       "<style scoped>\n",
       "    .dataframe tbody tr th:only-of-type {\n",
       "        vertical-align: middle;\n",
       "    }\n",
       "\n",
       "    .dataframe tbody tr th {\n",
       "        vertical-align: top;\n",
       "    }\n",
       "\n",
       "    .dataframe thead th {\n",
       "        text-align: right;\n",
       "    }\n",
       "</style>\n",
       "<table border=\"1\" class=\"dataframe\">\n",
       "  <thead>\n",
       "    <tr style=\"text-align: right;\">\n",
       "      <th></th>\n",
       "      <th>content</th>\n",
       "      <th>reviewCreatedVersion</th>\n",
       "      <th>score</th>\n",
       "      <th>Review_timestamp</th>\n",
       "      <th>thumbsUpCount</th>\n",
       "    </tr>\n",
       "  </thead>\n",
       "  <tbody>\n",
       "    <tr>\n",
       "      <th>35</th>\n",
       "      <td>No.1 Lead Generation App. We love the service ...</td>\n",
       "      <td>4.10.4.0</td>\n",
       "      <td>5</td>\n",
       "      <td>2025-02-20 11:02:36</td>\n",
       "      <td>0</td>\n",
       "    </tr>\n",
       "    <tr>\n",
       "      <th>65</th>\n",
       "      <td>Anything you need is within reach all round th...</td>\n",
       "      <td>4.10.4.0</td>\n",
       "      <td>5</td>\n",
       "      <td>2025-02-17 12:11:37</td>\n",
       "      <td>0</td>\n",
       "    </tr>\n",
       "    <tr>\n",
       "      <th>34</th>\n",
       "      <td>A good saving money, and delivery thanks for g...</td>\n",
       "      <td>4.10.4.0</td>\n",
       "      <td>5</td>\n",
       "      <td>2025-02-16 14:54:08</td>\n",
       "      <td>0</td>\n",
       "    </tr>\n",
       "    <tr>\n",
       "      <th>38</th>\n",
       "      <td>Kindly improve we don't have interference with...</td>\n",
       "      <td>4.10.4.0</td>\n",
       "      <td>4</td>\n",
       "      <td>2025-02-13 11:24:04</td>\n",
       "      <td>0</td>\n",
       "    </tr>\n",
       "    <tr>\n",
       "      <th>2</th>\n",
       "      <td>The app is actually really nice and simple to ...</td>\n",
       "      <td>4.10.4.0</td>\n",
       "      <td>5</td>\n",
       "      <td>2025-02-13 02:44:47</td>\n",
       "      <td>46</td>\n",
       "    </tr>\n",
       "  </tbody>\n",
       "</table>\n",
       "</div>"
      ],
      "text/plain": [
       "                                              content reviewCreatedVersion  \\\n",
       "35  No.1 Lead Generation App. We love the service ...             4.10.4.0   \n",
       "65  Anything you need is within reach all round th...             4.10.4.0   \n",
       "34  A good saving money, and delivery thanks for g...             4.10.4.0   \n",
       "38  Kindly improve we don't have interference with...             4.10.4.0   \n",
       "2   The app is actually really nice and simple to ...             4.10.4.0   \n",
       "\n",
       "    score    Review_timestamp  thumbsUpCount  \n",
       "35      5 2025-02-20 11:02:36              0  \n",
       "65      5 2025-02-17 12:11:37              0  \n",
       "34      5 2025-02-16 14:54:08              0  \n",
       "38      4 2025-02-13 11:24:04              0  \n",
       "2       5 2025-02-13 02:44:47             46  "
      ]
     },
     "execution_count": 18,
     "metadata": {},
     "output_type": "execute_result"
    }
   ],
   "source": [
    "# drop the unnecesarry columns before we can start the EDA(Exploratory Data Analysis)# drop the unnecesarry columns before we can start the EDA(Exploratory Data Analysis)\n",
    "\n",
    "Jiji_data1 = Jiji_data[[\"content\",\"reviewCreatedVersion\",\"score\",\"Review_timestamp\",\"thumbsUpCount\"]]\n",
    "\n",
    "# arranging the data starting from the newest to oldest\n",
    "\n",
    "Jiji_pointsort_data = Jiji_data1.sort_values(by=\"Review_timestamp\", ascending= False) \n",
    "Jiji_pointsort_data.head() "
   ]
  },
  {
   "cell_type": "markdown",
   "id": "b2d960a6",
   "metadata": {},
   "source": [
    "### EXPLORATORY DATA ANALYSIS\n",
    "### 1. JUMIA - EXPLORATORY DATA ANALYSIS\n",
    "\n",
    "##### CHECKING MISSING VALUES"
   ]
  },
  {
   "cell_type": "code",
   "execution_count": 19,
   "id": "4d20a9e0",
   "metadata": {},
   "outputs": [
    {
     "name": "stdout",
     "output_type": "stream",
     "text": [
      "content                  0\n",
      "reviewCreatedVersion    52\n",
      "score                    0\n",
      "Review_timestamp         0\n",
      "thumbsUpCount            0\n",
      "dtype: int64\n"
     ]
    }
   ],
   "source": [
    "Jumia_pointsort_data_sum_missing = Jumia_pointsort_data.isnull().sum()\n",
    "print(Jumia_pointsort_data_sum_missing) "
   ]
  },
  {
   "cell_type": "markdown",
   "id": "d7345d55",
   "metadata": {},
   "source": [
    "#### CHECKING THE REVIEWS IN TERMS OF SCORES TO SEE IF THERE IS MORE POSTIVE THAN THAN NEGATIVE FEEDBACK\n"
   ]
  },
  {
   "cell_type": "code",
   "execution_count": 20,
   "id": "04a6e0c3",
   "metadata": {},
   "outputs": [
    {
     "data": {
      "image/png": "[encoded data removed]",
      "text/plain": [
       "<Figure size 1000x500 with 1 Axes>"
      ]
     },
     "metadata": {},
     "output_type": "display_data"
    }
   ],
   "source": [
    "# Visualize data using a bar plot to determine if app is more positive reviews or negative reviews in terms of score\n",
    "\n",
    "ax = Jumia_pointsort_data['score'].value_counts().sort_index() \\\n",
    "    .plot(kind='bar',\n",
    "          title='Count of Reviews by Stars',\n",
    "          figsize=(10, 5))\n",
    "ax.set_xlabel('score review')\n",
    "plt.show()"
   ]
  },
  {
   "cell_type": "markdown",
   "id": "7d491fc0",
   "metadata": {},
   "source": [
    "### KILIMALL - EXPLORATORY DATA ANALYSIS"
   ]
  },
  {
   "cell_type": "markdown",
   "id": "b326d178",
   "metadata": {},
   "source": [
    "##### CHECKING MISSING VALUES"
   ]
  },
  {
   "cell_type": "code",
   "execution_count": 21,
   "id": "82d1d788",
   "metadata": {},
   "outputs": [
    {
     "name": "stdout",
     "output_type": "stream",
     "text": [
      "content                  0\n",
      "reviewCreatedVersion    52\n",
      "score                    0\n",
      "Review_timestamp         0\n",
      "thumbsUpCount            0\n",
      "dtype: int64\n"
     ]
    }
   ],
   "source": [
    "Kilimall_pointsort_data_sum_missing = Kilimall_pointsort_data.isnull().sum()\n",
    "print(Jumia_pointsort_data_sum_missing) "
   ]
  },
  {
   "cell_type": "markdown",
   "id": "1d141089",
   "metadata": {},
   "source": [
    "#### CHECKING THE REVIEWS IN TERMS OF SCORES TO SEE IF THERE IS MORE POSTIVE THAN THAN NEGATIVE FEEDBACK"
   ]
  },
  {
   "cell_type": "code",
   "execution_count": 22,
   "id": "14993011",
   "metadata": {},
   "outputs": [
    {
     "data": {
      "image/png": "[encoded data removed]",
      "text/plain": [
       "<Figure size 1000x500 with 1 Axes>"
      ]
     },
     "metadata": {},
     "output_type": "display_data"
    }
   ],
   "source": [
    "# Visualize data using a bar plot to determine if app is more positive reviews or negative reviews in terms of score\n",
    "\n",
    "ax = Kilimall_pointsort_data['score'].value_counts().sort_index() \\\n",
    "    .plot(kind='bar',\n",
    "          title='Kilimall Count of Reviews by Stars',\n",
    "          figsize=(10, 5))\n",
    "ax.set_xlabel('score review')\n",
    "plt.show()"
   ]
  },
  {
   "cell_type": "markdown",
   "id": "4a40ab7d",
   "metadata": {},
   "source": [
    "### JIJI - EXPLORATORY DATA ANALYSIS"
   ]
  },
  {
   "cell_type": "markdown",
   "id": "8832c842",
   "metadata": {},
   "source": [
    "##### CHECKING MISSING VALUES"
   ]
  },
  {
   "cell_type": "code",
   "execution_count": 23,
   "id": "bfbec5da",
   "metadata": {},
   "outputs": [
    {
     "name": "stdout",
     "output_type": "stream",
     "text": [
      "content                 0\n",
      "reviewCreatedVersion    5\n",
      "score                   0\n",
      "Review_timestamp        0\n",
      "thumbsUpCount           0\n",
      "dtype: int64\n"
     ]
    }
   ],
   "source": [
    "Jiji_pointsort_data_sum_missing = Jiji_pointsort_data.isnull().sum()\n",
    "print(Jiji_pointsort_data_sum_missing) "
   ]
  },
  {
   "cell_type": "markdown",
   "id": "d8be32b9",
   "metadata": {},
   "source": [
    "#### CHECKING THE REVIEWS IN TERMS OF SCORES TO SEE IF THERE IS MORE POSTIVE THAN THAN NEGATIVE FEEDBACK"
   ]
  },
  {
   "cell_type": "code",
   "execution_count": 24,
   "id": "50620cc6",
   "metadata": {},
   "outputs": [
    {
     "data": {
      "image/png": "[encoded data removed]",
      "text/plain": [
       "<Figure size 1000x500 with 1 Axes>"
      ]
     },
     "metadata": {},
     "output_type": "display_data"
    }
   ],
   "source": [
    "# Visualize data using a bar plot to determine if app is more positive reviews or negative reviews in terms of score\n",
    "\n",
    "ax = Jiji_pointsort_data['score'].value_counts().sort_index() \\\n",
    "    .plot(kind='bar',\n",
    "          title='Jiji Count of Reviews by Stars',\n",
    "          figsize=(10, 5))\n",
    "ax.set_xlabel('score review')\n",
    "plt.show()"
   ]
  },
  {
   "cell_type": "markdown",
   "id": "fcb44daa",
   "metadata": {},
   "source": [
    "### JUMIA - DATA PREPROCESSING\n",
    "\n",
    "###  Lowercasing - this is to maintain consistency of data"
   ]
  },
  {
   "cell_type": "code",
   "execution_count": 25,
   "id": "1d506316",
   "metadata": {},
   "outputs": [
    {
     "data": {
      "text/plain": [
       "pandas.core.series.Series"
      ]
     },
     "execution_count": 25,
     "metadata": {},
     "output_type": "execute_result"
    }
   ],
   "source": [
    "# check data type of content and change to str\n",
    "type(Jumia_pointsort_data[\"content\"])\n"
   ]
  },
  {
   "cell_type": "code",
   "execution_count": 26,
   "id": "4708c382",
   "metadata": {},
   "outputs": [
    {
     "name": "stdout",
     "output_type": "stream",
     "text": [
      "305    It is totally useless everything there is so e...\n",
      "977    it is actually a good app and their products a...\n",
      "81     What's going on, I'm stuck, I can't log in, I ...\n",
      "325    Jumia is the best online shopping option, thou...\n",
      "883    The platform is easy to use and I am waiting f...\n",
      "10     Only a fool does Pre-pay order on this STUPID ...\n",
      "67     I actually rated it 4 stars before but as soon...\n",
      "675    The feature for order returned failed several ...\n",
      "14     I've previously shared my unpleasant experienc...\n",
      "53     It's a nice app, user friendly and items are a...\n",
      "901                            fast and easy to navigate\n",
      "955    agent phone number in terminus JOS, is not goi...\n",
      "85     Your delivery agents are awful. They don't kno...\n",
      "49     MY REGRETABLE EXPERIENCE I had a scheduled del...\n",
      "312    I like jumia online shopping because it's fast...\n",
      "219    I feel at rest whenever I shop on jumia. I rat...\n",
      "555    I'm reporting from Enugu Jumia is good , recen...\n",
      "788    jumia is the best online shop for it's simple ...\n",
      "329    I can do old school payment if my order is mor...\n",
      "208    Very convenient and efficient. More grease to ...\n",
      "Name: content, dtype: object\n"
     ]
    }
   ],
   "source": [
    "#convert to str\n",
    "Jumia_pointsort_data['content'] = Jumia_pointsort_data['content'].astype(str)\n",
    "print(Jumia_pointsort_data['content'].head(20))  \n"
   ]
  },
  {
   "cell_type": "code",
   "execution_count": 27,
   "id": "2ab256a8",
   "metadata": {},
   "outputs": [
    {
     "name": "stdout",
     "output_type": "stream",
     "text": [
      "305    it is totally useless everything there is so e...\n",
      "977    it is actually a good app and their products a...\n",
      "81     what's going on, i'm stuck, i can't log in, i ...\n",
      "325    jumia is the best online shopping option, thou...\n",
      "883    the platform is easy to use and i am waiting f...\n",
      "Name: content, dtype: object\n"
     ]
    }
   ],
   "source": [
    "#Lowercase all reviews\n",
    "\n",
    "Jumia_pointsort_data['content'] = Jumia_pointsort_data['content'].apply(lambda x: x.lower())\n",
    "print(Jumia_pointsort_data['content'].head()) \n",
    "\n",
    "# Most of the reviews are already in lowercase so can see the difference if we look at the whole dataset.\n"
   ]
  },
  {
   "cell_type": "markdown",
   "id": "06e60ebf",
   "metadata": {},
   "source": [
    "### Emojis"
   ]
  },
  {
   "cell_type": "code",
   "execution_count": 28,
   "id": "ee4479a0",
   "metadata": {},
   "outputs": [
    {
     "name": "stdout",
     "output_type": "stream",
     "text": [
      "True\n",
      "fast and easy to navigate\n"
     ]
    }
   ],
   "source": [
    "#check if there is any special character\n",
    "alphabet = string.ascii_letters+string.punctuation\n",
    "print(Jumia_pointsort_data.content.str.strip(alphabet).astype(bool).any())\n",
    "\n",
    "extracted_emojis=[]\n",
    "\n",
    "def extract_emojis(s):\n",
    "  expe = re.compile('[\\U00010000-\\U0010ffff]', flags=re.UNICODE)\n",
    "  #return expe.findall(s)\n",
    "  return expe.sub(r'',s)\n",
    "\n",
    "\n",
    "for i in Jumia_pointsort_data['content']:\n",
    "  #print(str(extract_emojis(y)))\n",
    "  extracted_emojis.append(str(extract_emojis(i)))\n",
    "\n",
    "print(extracted_emojis[10])\n",
    "\n"
   ]
  },
  {
   "cell_type": "markdown",
   "id": "004b72bc",
   "metadata": {},
   "source": [
    "### Stopwords\n",
    "\n",
    "Removing stopwords can improve the performance to a great extent. Words such as myself, me , she, he , they , mine, you etc. When these words are removed only meaningful tokens are left.\n"
   ]
  },
  {
   "cell_type": "code",
   "execution_count": 29,
   "id": "44fa0f12",
   "metadata": {},
   "outputs": [
    {
     "name": "stdout",
     "output_type": "stream",
     "text": [
      "305    it is totally useless everything there is so e...\n",
      "977    it is actually a good app and their products a...\n",
      "81     what's going on, i'm stuck, i can't log in, i ...\n",
      "325    jumia is the best online shopping option, thou...\n",
      "883    the platform is easy to use and i am waiting f...\n",
      "Name: extracted_emojis, dtype: object\n"
     ]
    }
   ],
   "source": [
    "# removing stop words\n",
    "stop_words = stopwords.words('english')\n",
    "Jumia_pointsort_data[\"extracted_emojis\"] = extracted_emojis\n",
    "Jumia_pointsort_data[\"extracted_emojis\"] = Jumia_pointsort_data[\"extracted_emojis\"].apply(lambda x:x if x not in stop_words else None)\n",
    "print(Jumia_pointsort_data['extracted_emojis'].head())"
   ]
  },
  {
   "cell_type": "markdown",
   "id": "90572d96",
   "metadata": {},
   "source": [
    "### Stemming\n",
    "Stemming is also an important process, it chops off the end of the word and transform the word into its root form. All suffixes like -s, -es, -ed, -ing are removed.\n"
   ]
  },
  {
   "cell_type": "code",
   "execution_count": 30,
   "id": "0400f58d",
   "metadata": {},
   "outputs": [
    {
     "name": "stdout",
     "output_type": "stream",
     "text": [
      "305    it is totally useless everything there is so e...\n",
      "977    it is actually a good app and their products a...\n",
      "81     what's going on, i'm stuck, i can't log in, i ...\n",
      "325    jumia is the best online shopping option, thou...\n",
      "883    the platform is easy to use and i am waiting f...\n",
      "Name: extracted_emojis, dtype: object\n"
     ]
    }
   ],
   "source": [
    "from nltk.stem.snowball import PorterStemmer\n",
    "#stemming\n",
    "def stemming(x):\n",
    "  st = PorterStemmer()\n",
    "  if x is not None:\n",
    "    for word in x.split():\n",
    "      st.stem(word)\n",
    "\n",
    "\n",
    "Jumia_pointsort_data['extracted_emojis'].apply(lambda x: stemming(x))\n",
    "print(Jumia_pointsort_data['extracted_emojis'].head()) \n",
    "     "
   ]
  },
  {
   "cell_type": "markdown",
   "id": "ca025fef",
   "metadata": {},
   "source": [
    "### JUMIA SENTIMENT ANALYSIS"
   ]
  },
  {
   "cell_type": "code",
   "execution_count": 51,
   "id": "b598bf48",
   "metadata": {},
   "outputs": [
    {
     "name": "stderr",
     "output_type": "stream",
     "text": [
      "No model was supplied, defaulted to distilbert-base-uncased-finetuned-sst-2-english and revision af0f99b (https://huggingface.co/distilbert-base-uncased-finetuned-sst-2-english).\n",
      "Using a pipeline without specifying a model name and revision in production is not recommended.\n"
     ]
    },
    {
     "data": {
      "text/plain": [
       "[{'label': 'POSITIVE', 'score': 0.9934509992599487}]"
      ]
     },
     "execution_count": 51,
     "metadata": {},
     "output_type": "execute_result"
    }
   ],
   "source": [
    "from transformers import pipeline\n",
    "classifier_sentiment = pipeline(\"sentiment-analysis\")\n",
    "classifier_sentiment(\"I like Africa Data School.\")"
   ]
  },
  {
   "cell_type": "code",
   "execution_count": 52,
   "id": "95c4f841",
   "metadata": {
    "scrolled": true
   },
   "outputs": [
    {
     "name": "stderr",
     "output_type": "stream",
     "text": [
      "No model was supplied, defaulted to distilbert-base-uncased-finetuned-sst-2-english and revision af0f99b (https://huggingface.co/distilbert-base-uncased-finetuned-sst-2-english).\n",
      "Using a pipeline without specifying a model name and revision in production is not recommended.\n"
     ]
    },
    {
     "name": "stdout",
     "output_type": "stream",
     "text": [
      "                             content sentiment\n",
      "0         I love Africa Data School.  POSITIVE\n",
      "1    The course is very challenging.  POSITIVE\n",
      "2   I am not happy with the service.  NEGATIVE\n",
      "3          This platform is amazing!  POSITIVE\n",
      "4  The experience was disappointing.  NEGATIVE\n"
     ]
    }
   ],
   "source": [
    "# Import required libraries\n",
    "from transformers import pipeline\n",
    "import pandas as pd\n",
    "\n",
    "# Initialize the sentiment analysis classifier\n",
    "classifier_sentiment = pipeline(\"sentiment-analysis\")\n",
    "\n",
    "# Create the DataFrame\n",
    "data = {\n",
    "    \"content\": [\n",
    "        \"I love Africa Data School.\",\n",
    "        \"The course is very challenging.\",\n",
    "        \"I am not happy with the service.\",\n",
    "        \"This platform is amazing!\",\n",
    "        \"The experience was disappointing.\"\n",
    "    ]\n",
    "}\n",
    "\n",
    "df = pd.DataFrame(data)  # Ensure DataFrame is defined before use\n",
    "\n",
    "# Apply sentiment analysis to the 'content' column\n",
    "df[\"sentiment\"] = df[\"content\"].apply(lambda x: classifier_sentiment(x)[0][\"label\"])\n",
    "\n",
    "# Display the updated DataFrame\n",
    "print(df)  # Replace tools.display_dataframe_to_user with print"
   ]
  },
  {
   "cell_type": "code",
   "execution_count": null,
   "id": "5f0c4ce3",
   "metadata": {},
   "outputs": [
    {
     "name": "stderr",
     "output_type": "stream",
     "text": [
      "No model was supplied, defaulted to distilbert-base-uncased-finetuned-sst-2-english and revision af0f99b (https://huggingface.co/distilbert-base-uncased-finetuned-sst-2-english).\n",
      "Using a pipeline without specifying a model name and revision in production is not recommended.\n"
     ]
    }
   ],
   "source": [
    "# Initialize the sentiment analysis classifier\n",
    "classifier_sentiment = pipeline(\"sentiment-analysis\")\n",
    "\n",
    "# Ensure the DataFrame 'jumia_pointsort_data' exists before running sentiment analysis\n",
    "if 'Jumia_pointsort_data' in locals() or 'Jumia_pointsort_data' in globals():\n",
    "    # Check if 'extracted_emojis' column exists\n",
    "    if \"extracted_emojis\" in Jumia_pointsort_data.columns:\n",
    "        # Apply sentiment analysis to the 'extracted_emojis' column\n",
    "        Jumia_pointsort_data[\"sentiment\"] = Jumia_pointsort_data[\"extracted_emojis\"].apply(\n",
    "            lambda x: classifier_sentiment(x)[0][\"label\"] if isinstance(x, str) else \"UNKNOWN\"\n",
    "        )\n",
    "\n",
    "        # Display the updated DataFrame\n",
    "        print(Jumia_pointsort_data[[\"extracted_emojis\", \"sentiment\"]])\n",
    "    else:\n",
    "        print(\"Error: Column 'extracted_emojis' not found in the DataFrame.\")\n",
    "else:\n",
    "    print(\"Error: DataFrame 'Jumia_pointsort_data' is not defined.\")"
   ]
  },
  {
   "cell_type": "code",
   "execution_count": null,
   "id": "b1b49ce5",
   "metadata": {},
   "outputs": [],
   "source": []
  },
  {
   "cell_type": "code",
   "execution_count": null,
   "id": "1416f781",
   "metadata": {},
   "outputs": [],
   "source": []
  },
  {
   "cell_type": "code",
   "execution_count": null,
   "id": "9fb48692",
   "metadata": {},
   "outputs": [],
   "source": []
  },
  {
   "cell_type": "code",
   "execution_count": null,
   "id": "67138d2d",
   "metadata": {},
   "outputs": [],
   "source": []
  },
  {
   "cell_type": "code",
   "execution_count": null,
   "id": "5e4360ba",
   "metadata": {},
   "outputs": [],
   "source": []
  },
  {
   "cell_type": "code",
   "execution_count": null,
   "id": "7ecd197a",
   "metadata": {},
   "outputs": [],
   "source": []
  },
  {
   "cell_type": "markdown",
   "id": "061b157b",
   "metadata": {},
   "source": [
    "##### The code below is what I had done previously and wasn't giving the right output."
   ]
  },
  {
   "cell_type": "code",
   "execution_count": 33,
   "id": "b90d74e4",
   "metadata": {
    "scrolled": true
   },
   "outputs": [
    {
     "name": "stdout",
     "output_type": "stream",
     "text": [
      "Empty DataFrame\n",
      "Columns: [extracted_emojis, Sentiment_score]\n",
      "Index: []\n"
     ]
    }
   ],
   "source": [
    "#Function to calculate sentiment score for whole data set\n",
    "\n",
    "def senti_sc(x):\n",
    "    if x is not None:\n",
    "       return TextBlob(x).sentiment\n",
    "\n",
    "Jumia_pointsort_data[\"Sentiment_score\"]= Jumia_pointsort_data[\"extracted_emojis\"].apply(senti_sc)\n",
    "print(Jumia_pointsort_data.loc[0:19,['extracted_emojis','Sentiment_score']])\n",
    "\n"
   ]
  },
  {
   "cell_type": "code",
   "execution_count": 37,
   "id": "d667a81d",
   "metadata": {},
   "outputs": [
    {
     "data": {
      "text/plain": [
       "Sentiment(polarity=0.08459595959595961, subjectivity=0.5051346801346801)"
      ]
     },
     "execution_count": 37,
     "metadata": {},
     "output_type": "execute_result"
    }
   ],
   "source": [
    "#for i in \n",
    "Jumia_pointsort_data['Sentiment_score'][0]"
   ]
  },
  {
   "cell_type": "code",
   "execution_count": 38,
   "id": "2c87ba21",
   "metadata": {},
   "outputs": [],
   "source": [
    "from textblob.en import subjectivity\n",
    "polarity=[]\n",
    "subjectivity = []\n",
    "for i in Jumia_pointsort_data['extracted_emojis'].values:\n",
    "  try:\n",
    "    analysis = TextBlob(i)\n",
    "    polarity.append(analysis.sentiment.polarity)\n",
    "    subjectivity.append(analysis.sentiment.subjectivity)\n",
    "    \n",
    "  except:\n",
    "     polarity.append(0)\n",
    "     subjectivity.append(0) "
   ]
  },
  {
   "cell_type": "code",
   "execution_count": 39,
   "id": "d07ccc55",
   "metadata": {},
   "outputs": [],
   "source": [
    "Jumia_pointsort_data['polarity'] = polarity\n",
    "Jumia_pointsort_data['subjectivity'] = subjectivity\n"
   ]
  },
  {
   "cell_type": "markdown",
   "id": "02090c55",
   "metadata": {},
   "source": [
    "##### What are some of the top most positive feedbacks?"
   ]
  },
  {
   "cell_type": "code",
   "execution_count": 40,
   "id": "3b8177d6",
   "metadata": {},
   "outputs": [
    {
     "data": {
      "text/html": [
       "<div>\n",
       "<style scoped>\n",
       "    .dataframe tbody tr th:only-of-type {\n",
       "        vertical-align: middle;\n",
       "    }\n",
       "\n",
       "    .dataframe tbody tr th {\n",
       "        vertical-align: top;\n",
       "    }\n",
       "\n",
       "    .dataframe thead th {\n",
       "        text-align: right;\n",
       "    }\n",
       "</style>\n",
       "<table border=\"1\" class=\"dataframe\">\n",
       "  <thead>\n",
       "    <tr style=\"text-align: right;\">\n",
       "      <th></th>\n",
       "      <th>content</th>\n",
       "      <th>reviewCreatedVersion</th>\n",
       "      <th>score</th>\n",
       "      <th>Review_timestamp</th>\n",
       "      <th>thumbsUpCount</th>\n",
       "      <th>extracted_emojis</th>\n",
       "      <th>Sentiment_score</th>\n",
       "      <th>polarity</th>\n",
       "      <th>subjectivity</th>\n",
       "      <th>feedback</th>\n",
       "    </tr>\n",
       "  </thead>\n",
       "  <tbody>\n",
       "    <tr>\n",
       "      <th>15</th>\n",
       "      <td>i called customer care and the issue has been ...</td>\n",
       "      <td>16.10.0</td>\n",
       "      <td>3</td>\n",
       "      <td>2025-02-02 23:15:48</td>\n",
       "      <td>0</td>\n",
       "      <td>i called customer care and the issue has been ...</td>\n",
       "      <td>(0.20625, 0.70625)</td>\n",
       "      <td>0.206250</td>\n",
       "      <td>0.706250</td>\n",
       "      <td>positive feedback</td>\n",
       "    </tr>\n",
       "    <tr>\n",
       "      <th>33</th>\n",
       "      <td>i tried cancelling one of the orders i made tw...</td>\n",
       "      <td>16.10.0</td>\n",
       "      <td>2</td>\n",
       "      <td>2025-02-01 21:48:41</td>\n",
       "      <td>0</td>\n",
       "      <td>i tried cancelling one of the orders i made tw...</td>\n",
       "      <td>(0.196875, 0.59375)</td>\n",
       "      <td>0.196875</td>\n",
       "      <td>0.593750</td>\n",
       "      <td>positive feedback</td>\n",
       "    </tr>\n",
       "    <tr>\n",
       "      <th>82</th>\n",
       "      <td>i have used this app for over 5 years had alwa...</td>\n",
       "      <td>16.11.0</td>\n",
       "      <td>2</td>\n",
       "      <td>2025-01-31 20:33:18</td>\n",
       "      <td>0</td>\n",
       "      <td>i have used this app for over 5 years had alwa...</td>\n",
       "      <td>(0.1969642857142857, 0.4775892857142857)</td>\n",
       "      <td>0.196964</td>\n",
       "      <td>0.477589</td>\n",
       "      <td>positive feedback</td>\n",
       "    </tr>\n",
       "    <tr>\n",
       "      <th>74</th>\n",
       "      <td>this app has really helped me to buy things wi...</td>\n",
       "      <td>16.10.0</td>\n",
       "      <td>4</td>\n",
       "      <td>2025-01-27 11:31:32</td>\n",
       "      <td>0</td>\n",
       "      <td>this app has really helped me to buy things wi...</td>\n",
       "      <td>(0.2, 0.2)</td>\n",
       "      <td>0.200000</td>\n",
       "      <td>0.200000</td>\n",
       "      <td>positive feedback</td>\n",
       "    </tr>\n",
       "    <tr>\n",
       "      <th>10</th>\n",
       "      <td>a great and easy-to-navigate platform for onli...</td>\n",
       "      <td>16.10.0</td>\n",
       "      <td>5</td>\n",
       "      <td>2025-01-26 02:34:12</td>\n",
       "      <td>32</td>\n",
       "      <td>a great and easy-to-navigate platform for onli...</td>\n",
       "      <td>(0.5, 0.6799999999999999)</td>\n",
       "      <td>0.500000</td>\n",
       "      <td>0.680000</td>\n",
       "      <td>positive feedback</td>\n",
       "    </tr>\n",
       "    <tr>\n",
       "      <th>73</th>\n",
       "      <td>i've been using this jumia app for more than t...</td>\n",
       "      <td>16.10.0</td>\n",
       "      <td>5</td>\n",
       "      <td>2025-01-25 19:12:12</td>\n",
       "      <td>0</td>\n",
       "      <td>i've been using this jumia app for more than t...</td>\n",
       "      <td>(0.35, 0.3)</td>\n",
       "      <td>0.350000</td>\n",
       "      <td>0.300000</td>\n",
       "      <td>positive feedback</td>\n",
       "    </tr>\n",
       "    <tr>\n",
       "      <th>11</th>\n",
       "      <td>jumia is a very good app for shopping and has ...</td>\n",
       "      <td>16.10.0</td>\n",
       "      <td>5</td>\n",
       "      <td>2025-01-22 10:09:15</td>\n",
       "      <td>22</td>\n",
       "      <td>jumia is a very good app for shopping and has ...</td>\n",
       "      <td>(0.2683333333333333, 0.7633333333333333)</td>\n",
       "      <td>0.268333</td>\n",
       "      <td>0.763333</td>\n",
       "      <td>positive feedback</td>\n",
       "    </tr>\n",
       "    <tr>\n",
       "      <th>24</th>\n",
       "      <td>very easy to order and pay and delivery is som...</td>\n",
       "      <td>16.10.0</td>\n",
       "      <td>5</td>\n",
       "      <td>2025-01-22 01:29:50</td>\n",
       "      <td>0</td>\n",
       "      <td>very easy to order and pay and delivery is som...</td>\n",
       "      <td>(0.354375, 0.5802083333333333)</td>\n",
       "      <td>0.354375</td>\n",
       "      <td>0.580208</td>\n",
       "      <td>positive feedback</td>\n",
       "    </tr>\n",
       "    <tr>\n",
       "      <th>27</th>\n",
       "      <td>your are the best online shopping platforms be...</td>\n",
       "      <td>16.10.0</td>\n",
       "      <td>4</td>\n",
       "      <td>2025-01-22 01:19:27</td>\n",
       "      <td>4</td>\n",
       "      <td>your are the best online shopping platforms be...</td>\n",
       "      <td>(0.2833333333333333, 0.4166666666666667)</td>\n",
       "      <td>0.283333</td>\n",
       "      <td>0.416667</td>\n",
       "      <td>positive feedback</td>\n",
       "    </tr>\n",
       "    <tr>\n",
       "      <th>26</th>\n",
       "      <td>i love this app so much having been using it f...</td>\n",
       "      <td>16.10.0</td>\n",
       "      <td>3</td>\n",
       "      <td>2025-01-18 00:26:06</td>\n",
       "      <td>0</td>\n",
       "      <td>i love this app so much having been using it f...</td>\n",
       "      <td>(0.24, 0.485)</td>\n",
       "      <td>0.240000</td>\n",
       "      <td>0.485000</td>\n",
       "      <td>positive feedback</td>\n",
       "    </tr>\n",
       "  </tbody>\n",
       "</table>\n",
       "</div>"
      ],
      "text/plain": [
       "                                              content reviewCreatedVersion  \\\n",
       "15  i called customer care and the issue has been ...              16.10.0   \n",
       "33  i tried cancelling one of the orders i made tw...              16.10.0   \n",
       "82  i have used this app for over 5 years had alwa...              16.11.0   \n",
       "74  this app has really helped me to buy things wi...              16.10.0   \n",
       "10  a great and easy-to-navigate platform for onli...              16.10.0   \n",
       "73  i've been using this jumia app for more than t...              16.10.0   \n",
       "11  jumia is a very good app for shopping and has ...              16.10.0   \n",
       "24  very easy to order and pay and delivery is som...              16.10.0   \n",
       "27  your are the best online shopping platforms be...              16.10.0   \n",
       "26  i love this app so much having been using it f...              16.10.0   \n",
       "\n",
       "    score    Review_timestamp  thumbsUpCount  \\\n",
       "15      3 2025-02-02 23:15:48              0   \n",
       "33      2 2025-02-01 21:48:41              0   \n",
       "82      2 2025-01-31 20:33:18              0   \n",
       "74      4 2025-01-27 11:31:32              0   \n",
       "10      5 2025-01-26 02:34:12             32   \n",
       "73      5 2025-01-25 19:12:12              0   \n",
       "11      5 2025-01-22 10:09:15             22   \n",
       "24      5 2025-01-22 01:29:50              0   \n",
       "27      4 2025-01-22 01:19:27              4   \n",
       "26      3 2025-01-18 00:26:06              0   \n",
       "\n",
       "                                     extracted_emojis  \\\n",
       "15  i called customer care and the issue has been ...   \n",
       "33  i tried cancelling one of the orders i made tw...   \n",
       "82  i have used this app for over 5 years had alwa...   \n",
       "74  this app has really helped me to buy things wi...   \n",
       "10  a great and easy-to-navigate platform for onli...   \n",
       "73  i've been using this jumia app for more than t...   \n",
       "11  jumia is a very good app for shopping and has ...   \n",
       "24  very easy to order and pay and delivery is som...   \n",
       "27  your are the best online shopping platforms be...   \n",
       "26  i love this app so much having been using it f...   \n",
       "\n",
       "                             Sentiment_score  polarity  subjectivity  \\\n",
       "15                        (0.20625, 0.70625)  0.206250      0.706250   \n",
       "33                       (0.196875, 0.59375)  0.196875      0.593750   \n",
       "82  (0.1969642857142857, 0.4775892857142857)  0.196964      0.477589   \n",
       "74                                (0.2, 0.2)  0.200000      0.200000   \n",
       "10                 (0.5, 0.6799999999999999)  0.500000      0.680000   \n",
       "73                               (0.35, 0.3)  0.350000      0.300000   \n",
       "11  (0.2683333333333333, 0.7633333333333333)  0.268333      0.763333   \n",
       "24            (0.354375, 0.5802083333333333)  0.354375      0.580208   \n",
       "27  (0.2833333333333333, 0.4166666666666667)  0.283333      0.416667   \n",
       "26                             (0.24, 0.485)  0.240000      0.485000   \n",
       "\n",
       "             feedback  \n",
       "15  positive feedback  \n",
       "33  positive feedback  \n",
       "82  positive feedback  \n",
       "74  positive feedback  \n",
       "10  positive feedback  \n",
       "73  positive feedback  \n",
       "11  positive feedback  \n",
       "24  positive feedback  \n",
       "27  positive feedback  \n",
       "26  positive feedback  "
      ]
     },
     "execution_count": 40,
     "metadata": {},
     "output_type": "execute_result"
    }
   ],
   "source": [
    "conditions = [(Jumia_pointsort_data['polarity'] < 0),(Jumia_pointsort_data['polarity'] == 0),(Jumia_pointsort_data['polarity'] > 0)]\n",
    "values = ['negative feedback', 'neutral feedback', 'positive feedback']\n",
    "Jumia_pointsort_data['feedback'] = np.select(conditions,values)\n",
    "\n",
    "Jumia_pointsort_data[Jumia_pointsort_data.polarity>0].head(10)"
   ]
  },
  {
   "cell_type": "markdown",
   "id": "6b066bbf",
   "metadata": {},
   "source": [
    "\n",
    "#### What are the main issues or complaints highlighted by customers in their negative feedback?"
   ]
  },
  {
   "cell_type": "code",
   "execution_count": 41,
   "id": "4a733ba5",
   "metadata": {},
   "outputs": [
    {
     "data": {
      "text/html": [
       "<div>\n",
       "<style scoped>\n",
       "    .dataframe tbody tr th:only-of-type {\n",
       "        vertical-align: middle;\n",
       "    }\n",
       "\n",
       "    .dataframe tbody tr th {\n",
       "        vertical-align: top;\n",
       "    }\n",
       "\n",
       "    .dataframe thead th {\n",
       "        text-align: right;\n",
       "    }\n",
       "</style>\n",
       "<table border=\"1\" class=\"dataframe\">\n",
       "  <thead>\n",
       "    <tr style=\"text-align: right;\">\n",
       "      <th></th>\n",
       "      <th>content</th>\n",
       "      <th>reviewCreatedVersion</th>\n",
       "      <th>score</th>\n",
       "      <th>Review_timestamp</th>\n",
       "      <th>thumbsUpCount</th>\n",
       "      <th>extracted_emojis</th>\n",
       "      <th>Sentiment_score</th>\n",
       "      <th>polarity</th>\n",
       "      <th>subjectivity</th>\n",
       "      <th>feedback</th>\n",
       "    </tr>\n",
       "  </thead>\n",
       "  <tbody>\n",
       "    <tr>\n",
       "      <th>90</th>\n",
       "      <td>this app is just frustrating, i redownloaded t...</td>\n",
       "      <td>16.10.0</td>\n",
       "      <td>1</td>\n",
       "      <td>2025-01-31 08:42:14</td>\n",
       "      <td>4</td>\n",
       "      <td>this app is just frustrating, i redownloaded t...</td>\n",
       "      <td>(-0.07500000000000001, 0.5916666666666667)</td>\n",
       "      <td>-0.075000</td>\n",
       "      <td>0.591667</td>\n",
       "      <td>negative feedback</td>\n",
       "    </tr>\n",
       "    <tr>\n",
       "      <th>13</th>\n",
       "      <td>jumia are useless.... i ordered for 3 items an...</td>\n",
       "      <td>16.10.0</td>\n",
       "      <td>1</td>\n",
       "      <td>2025-01-27 15:29:22</td>\n",
       "      <td>1</td>\n",
       "      <td>jumia are useless.... i ordered for 3 items an...</td>\n",
       "      <td>(-0.2333333333333333, 0.6)</td>\n",
       "      <td>-0.233333</td>\n",
       "      <td>0.600000</td>\n",
       "      <td>negative feedback</td>\n",
       "    </tr>\n",
       "    <tr>\n",
       "      <th>12</th>\n",
       "      <td>this is the worst shopping app i have ever dow...</td>\n",
       "      <td>16.10.0</td>\n",
       "      <td>1</td>\n",
       "      <td>2025-01-23 20:14:55</td>\n",
       "      <td>1</td>\n",
       "      <td>this is the worst shopping app i have ever dow...</td>\n",
       "      <td>(-0.05, 0.6266666666666667)</td>\n",
       "      <td>-0.050000</td>\n",
       "      <td>0.626667</td>\n",
       "      <td>negative feedback</td>\n",
       "    </tr>\n",
       "    <tr>\n",
       "      <th>8</th>\n",
       "      <td>jumia is the worst logistics company to use ri...</td>\n",
       "      <td>16.10.0</td>\n",
       "      <td>1</td>\n",
       "      <td>2025-01-22 20:48:17</td>\n",
       "      <td>3</td>\n",
       "      <td>jumia is the worst logistics company to use ri...</td>\n",
       "      <td>(-0.4228571428571429, 0.6121428571428571)</td>\n",
       "      <td>-0.422857</td>\n",
       "      <td>0.612143</td>\n",
       "      <td>negative feedback</td>\n",
       "    </tr>\n",
       "    <tr>\n",
       "      <th>14</th>\n",
       "      <td>ltely the jumia app has become a total let dow...</td>\n",
       "      <td>16.10.0</td>\n",
       "      <td>1</td>\n",
       "      <td>2025-01-21 15:40:15</td>\n",
       "      <td>16</td>\n",
       "      <td>ltely the jumia app has become a total let dow...</td>\n",
       "      <td>(-0.10405092592592592, 0.5814814814814815)</td>\n",
       "      <td>-0.104051</td>\n",
       "      <td>0.581481</td>\n",
       "      <td>negative feedback</td>\n",
       "    </tr>\n",
       "  </tbody>\n",
       "</table>\n",
       "</div>"
      ],
      "text/plain": [
       "                                              content reviewCreatedVersion  \\\n",
       "90  this app is just frustrating, i redownloaded t...              16.10.0   \n",
       "13  jumia are useless.... i ordered for 3 items an...              16.10.0   \n",
       "12  this is the worst shopping app i have ever dow...              16.10.0   \n",
       "8   jumia is the worst logistics company to use ri...              16.10.0   \n",
       "14  ltely the jumia app has become a total let dow...              16.10.0   \n",
       "\n",
       "    score    Review_timestamp  thumbsUpCount  \\\n",
       "90      1 2025-01-31 08:42:14              4   \n",
       "13      1 2025-01-27 15:29:22              1   \n",
       "12      1 2025-01-23 20:14:55              1   \n",
       "8       1 2025-01-22 20:48:17              3   \n",
       "14      1 2025-01-21 15:40:15             16   \n",
       "\n",
       "                                     extracted_emojis  \\\n",
       "90  this app is just frustrating, i redownloaded t...   \n",
       "13  jumia are useless.... i ordered for 3 items an...   \n",
       "12  this is the worst shopping app i have ever dow...   \n",
       "8   jumia is the worst logistics company to use ri...   \n",
       "14  ltely the jumia app has become a total let dow...   \n",
       "\n",
       "                               Sentiment_score  polarity  subjectivity  \\\n",
       "90  (-0.07500000000000001, 0.5916666666666667) -0.075000      0.591667   \n",
       "13                  (-0.2333333333333333, 0.6) -0.233333      0.600000   \n",
       "12                 (-0.05, 0.6266666666666667) -0.050000      0.626667   \n",
       "8    (-0.4228571428571429, 0.6121428571428571) -0.422857      0.612143   \n",
       "14  (-0.10405092592592592, 0.5814814814814815) -0.104051      0.581481   \n",
       "\n",
       "             feedback  \n",
       "90  negative feedback  \n",
       "13  negative feedback  \n",
       "12  negative feedback  \n",
       "8   negative feedback  \n",
       "14  negative feedback  "
      ]
     },
     "execution_count": 41,
     "metadata": {},
     "output_type": "execute_result"
    }
   ],
   "source": [
    "subject_matter = Jumia_pointsort_data[Jumia_pointsort_data.subjectivity>0.5]\n",
    "negative_subject_matter = subject_matter[subject_matter.polarity < 0]\n",
    "negative_subject_matter.head()"
   ]
  },
  {
   "cell_type": "code",
   "execution_count": 42,
   "id": "315f8817",
   "metadata": {},
   "outputs": [
    {
     "name": "stdout",
     "output_type": "stream",
     "text": [
      "positive feedback    0.52\n",
      "negative feedback    0.42\n",
      "neutral feedback     0.06\n",
      "Name: feedback, dtype: float64\n"
     ]
    },
    {
     "data": {
      "text/plain": [
       "Text(0.5, 1.0, 'Jumia feedback rate')"
      ]
     },
     "execution_count": 42,
     "metadata": {},
     "output_type": "execute_result"
    },
    {
     "data": {
      "image/png": "[encoded data removed]",
      "text/plain": [
       "<Figure size 640x480 with 1 Axes>"
      ]
     },
     "metadata": {},
     "output_type": "display_data"
    }
   ],
   "source": [
    "print(Jumia_pointsort_data['feedback'].value_counts(normalize=True))\n",
    "Feedback_rate =  Jumia_pointsort_data['feedback'].value_counts(normalize=True).plot(kind=\"bar\")\n",
    "for i in Feedback_rate.patches:\n",
    "  Feedback_rate.annotate('{:.1f}'.format(i.get_height()), (i.get_x()+0.25, i.get_height()+0.01))\n",
    "plt.title('Jumia feedback rate')"
   ]
  },
  {
   "cell_type": "code",
   "execution_count": 43,
   "id": "039aee5e",
   "metadata": {},
   "outputs": [
    {
     "name": "stdout",
     "output_type": "stream",
     "text": [
      "positive feedback    52\n",
      "negative feedback    42\n",
      "neutral feedback      6\n",
      "Name: feedback, dtype: int64\n"
     ]
    },
    {
     "data": {
      "image/png": "[encoded data removed]",
      "text/plain": [
       "<Figure size 640x480 with 1 Axes>"
      ]
     },
     "metadata": {},
     "output_type": "display_data"
    }
   ],
   "source": [
    "print(Jumia_pointsort_data['feedback'].value_counts())\n",
    "Feedback_value = sns.countplot(x='feedback', data = Jumia_pointsort_data)\n",
    "for i in Feedback_value.patches:\n",
    "  Feedback_value.annotate('{:.1f}'.format(i.get_height()), (i.get_x()+0.25, i.get_height()+0.01))\n",
    "plt.title('Jumia feedback count');"
   ]
  },
  {
   "cell_type": "markdown",
   "id": "769b2db8",
   "metadata": {},
   "source": [
    "##### Notes On Jumia Analysis - to be completed\n",
    "1. Which online store (Jumia, Kilimall, or Jiji) has the highest positive sentiment from customers based on recent reviews?\n",
    "The app is fast and has easened the stress of physical shopping\n",
    "2. What are the common pain points or negative experiences reported by users across these platforms?\n",
    "3. Which features or aspects of online shopping do customers most frequently praise on each platform?\n",
    "4. What actionable insights can be drawn to enhance the functionality and user experience of the new app \"X\" based on customer feedback from existing platforms? "
   ]
  },
  {
   "cell_type": "markdown",
   "id": "765d7c80",
   "metadata": {},
   "source": [
    "### KILIMALL - DATA PREPROCESSING\n",
    "#### Lowercasing - this is to maintain consistency of data"
   ]
  },
  {
   "cell_type": "code",
   "execution_count": 44,
   "id": "389e7014",
   "metadata": {},
   "outputs": [
    {
     "data": {
      "text/plain": [
       "pandas.core.series.Series"
      ]
     },
     "execution_count": 44,
     "metadata": {},
     "output_type": "execute_result"
    }
   ],
   "source": [
    "# check data type of content and change to str\n",
    "type(Kilimall_pointsort_data[\"content\"])\n"
   ]
  },
  {
   "cell_type": "code",
   "execution_count": 45,
   "id": "42d6d479",
   "metadata": {},
   "outputs": [
    {
     "name": "stdout",
     "output_type": "stream",
     "text": [
      "553                               Simple and easy to use\n",
      "31     Angelina constantly provides exceptionally ser...\n",
      "3      I have been using this app over five years, at...\n",
      "129    good online shop to consider fast and easy to ...\n",
      "963     the best online business platform you can trust.\n",
      "226    In my opinion,I think this is one of the legit...\n",
      "22     Kilimall never fails it is my number one shopp...\n",
      "15     nice shopping app with more quality varieties ...\n",
      "164       the best and convenient online shopping centre\n",
      "208         💯The best app to chop,, 🤞very fast no delays\n",
      "4      Lovely. If there is anything I love about Kili...\n",
      "934       The product was good so I got satisfied by it.\n",
      "826                 It is awesome. I really like the app\n",
      "195    Good quality products and delivered on and gre...\n",
      "398                             very smart,as it appears\n",
      "135    none like this. never had a beautiful experien...\n",
      "767    Magret customer service helped me to get Item ...\n",
      "242                    Nice in delivery of quality goods\n",
      "0      I've had the worst experience ever since the i...\n",
      "378    very beautiful product I will use it in my fie...\n",
      "Name: content, dtype: object\n"
     ]
    }
   ],
   "source": [
    "#convert to str\n",
    "Kilimall_pointsort_data['content'] = Kilimall_pointsort_data['content'].astype(str)\n",
    "print(Kilimall_pointsort_data['content'].head(20))  \n"
   ]
  },
  {
   "cell_type": "code",
   "execution_count": 46,
   "id": "1aca79b4",
   "metadata": {},
   "outputs": [
    {
     "name": "stdout",
     "output_type": "stream",
     "text": [
      "553                               simple and easy to use\n",
      "31     angelina constantly provides exceptionally ser...\n",
      "3      i have been using this app over five years, at...\n",
      "129    good online shop to consider fast and easy to ...\n",
      "963     the best online business platform you can trust.\n",
      "Name: content, dtype: object\n"
     ]
    }
   ],
   "source": [
    "#Lowercase all reviews\n",
    "\n",
    "Kilimall_pointsort_data['content'] = Kilimall_pointsort_data['content'].apply(lambda x: x.lower())\n",
    "print(Kilimall_pointsort_data['content'].head()) \n",
    "\n",
    "# Most of the reviews are already in lowercase so can see the difference if we look at the whole dataset.\n"
   ]
  },
  {
   "cell_type": "markdown",
   "id": "a2376f12",
   "metadata": {},
   "source": [
    "### Emojis"
   ]
  },
  {
   "cell_type": "code",
   "execution_count": 47,
   "id": "c354f43d",
   "metadata": {},
   "outputs": [
    {
     "name": "stdout",
     "output_type": "stream",
     "text": [
      "True\n",
      "refurbished phones work the worst, laptops too i would advise for physical shopping for electronics\n"
     ]
    }
   ],
   "source": [
    "#check if there is any special character\n",
    "alphabet = string.ascii_letters+string.punctuation\n",
    "print(Kilimall_pointsort_data.content.str.strip(alphabet).astype(bool).any())\n",
    "\n",
    "extracted_emojis=[]\n",
    "\n",
    "def extract_emojis(s):\n",
    "  expe = re.compile('[\\U00010000-\\U0010ffff]', flags=re.UNICODE)\n",
    "  #return expe.findall(s)\n",
    "  return expe.sub(r'',s)\n",
    "\n",
    "\n",
    "for i in Kilimall_pointsort_data['content']:\n",
    "  #print(str(extract_emojis(y)))\n",
    "  extracted_emojis.append(str(extract_emojis(i)))\n",
    "\n",
    "print(extracted_emojis[100])    "
   ]
  },
  {
   "cell_type": "markdown",
   "id": "27d40d49",
   "metadata": {},
   "source": [
    "### Stopwords"
   ]
  },
  {
   "cell_type": "code",
   "execution_count": 48,
   "id": "e24954e4",
   "metadata": {},
   "outputs": [
    {
     "name": "stdout",
     "output_type": "stream",
     "text": [
      "553                               simple and easy to use\n",
      "31     angelina constantly provides exceptionally ser...\n",
      "3      i have been using this app over five years, at...\n",
      "129    good online shop to consider fast and easy to ...\n",
      "963     the best online business platform you can trust.\n",
      "Name: extracted_emojis, dtype: object\n"
     ]
    }
   ],
   "source": [
    "# removing stop words\n",
    "stop_words = stopwords.words('english')\n",
    "Kilimall_pointsort_data[\"extracted_emojis\"] = extracted_emojis\n",
    "Kilimall_pointsort_data[\"extracted_emojis\"] = Kilimall_pointsort_data[\"extracted_emojis\"].apply(lambda x:x if x not in stop_words else None)\n",
    "print(Kilimall_pointsort_data['extracted_emojis'].head())"
   ]
  },
  {
   "cell_type": "markdown",
   "id": "6fd37a1f",
   "metadata": {},
   "source": [
    "### Stemming"
   ]
  },
  {
   "cell_type": "code",
   "execution_count": 49,
   "id": "ab2ccf69",
   "metadata": {},
   "outputs": [
    {
     "name": "stdout",
     "output_type": "stream",
     "text": [
      "553                               simple and easy to use\n",
      "31     angelina constantly provides exceptionally ser...\n",
      "3      i have been using this app over five years, at...\n",
      "129    good online shop to consider fast and easy to ...\n",
      "963     the best online business platform you can trust.\n",
      "Name: extracted_emojis, dtype: object\n"
     ]
    }
   ],
   "source": [
    "from nltk.stem.snowball import PorterStemmer\n",
    "#stemming\n",
    "def stemming(x):\n",
    "  st = PorterStemmer()\n",
    "  if x is not None:\n",
    "    for word in x.split():\n",
    "      st.stem(word)\n",
    "\n",
    "\n",
    "Kilimall_pointsort_data['extracted_emojis'].apply(lambda x: stemming(x))\n",
    "print(Kilimall_pointsort_data['extracted_emojis'].head())      \n",
    "     "
   ]
  },
  {
   "cell_type": "markdown",
   "id": "4753ac0a",
   "metadata": {},
   "source": [
    "### KILIMALL SENTIMENT ANALYSIS"
   ]
  },
  {
   "cell_type": "code",
   "execution_count": 50,
   "id": "5a1ce3a0",
   "metadata": {},
   "outputs": [
    {
     "name": "stdout",
     "output_type": "stream",
     "text": [
      "                                      extracted_emojis  \\\n",
      "0    i've had the worst experience ever since the i...   \n",
      "378  very beautiful product i will use it in my fie...   \n",
      "232  i think that my product can get lost when i co...   \n",
      "1    there's a time i was very unhappy with kilimal...   \n",
      "50   i have never been disappointed by killmall. th...   \n",
      "..                                                 ...   \n",
      "165  i recommend anyone willing to purchase online ...   \n",
      "35   ever since i started shopping from kilimall i ...   \n",
      "487  the experience is great and the offers and the...   \n",
      "172  i liked the delivery speed, and everything. ju...   \n",
      "19   very navigable and efficient. no annoying ads ...   \n",
      "\n",
      "                                 Sentiment_score  \n",
      "0      (0.08459595959595961, 0.5051346801346801)  \n",
      "378                                          NaN  \n",
      "232                                          NaN  \n",
      "1      (0.16845238095238096, 0.5166666666666666)  \n",
      "50   (0.006666666666666668, 0.45666666666666667)  \n",
      "..                                           ...  \n",
      "165                                          NaN  \n",
      "35      (0.3214285714285714, 0.6026785714285714)  \n",
      "487                                          NaN  \n",
      "172                                          NaN  \n",
      "19      (0.4416666666666667, 0.7416666666666667)  \n",
      "\n",
      "[267 rows x 2 columns]\n"
     ]
    }
   ],
   "source": [
    "#Function to calculate sentiment score for whole data set\n",
    "\n",
    "def senti_sc(x):\n",
    "    if x is not None:\n",
    "       return TextBlob(x).sentiment\n",
    "\n",
    "Kilimall_pointsort_data[\"Sentiment_score\"]= Jumia_pointsort_data[\"extracted_emojis\"].apply(senti_sc)\n",
    "print(Kilimall_pointsort_data.loc[0:19,['extracted_emojis','Sentiment_score']])\n",
    "\n"
   ]
  },
  {
   "cell_type": "code",
   "execution_count": 51,
   "id": "8e321752",
   "metadata": {},
   "outputs": [
    {
     "data": {
      "text/plain": [
       "Sentiment(polarity=0.08459595959595961, subjectivity=0.5051346801346801)"
      ]
     },
     "execution_count": 51,
     "metadata": {},
     "output_type": "execute_result"
    }
   ],
   "source": [
    "#for i in \n",
    "Kilimall_pointsort_data['Sentiment_score'][0]"
   ]
  },
  {
   "cell_type": "code",
   "execution_count": 52,
   "id": "62bdda16",
   "metadata": {},
   "outputs": [],
   "source": [
    "from textblob.en import subjectivity\n",
    "polarity=[]\n",
    "subjectivity = []\n",
    "for i in Kilimall_pointsort_data['extracted_emojis'].values:\n",
    "  try:\n",
    "    analysis = TextBlob(i)\n",
    "    polarity.append(analysis.sentiment.polarity)\n",
    "    subjectivity.append(analysis.sentiment.subjectivity)\n",
    "    \n",
    "  except:\n",
    "     polarity.append(0)\n",
    "     subjectivity.append(0) "
   ]
  },
  {
   "cell_type": "code",
   "execution_count": 53,
   "id": "2de5d1ee",
   "metadata": {},
   "outputs": [],
   "source": [
    "Kilimall_pointsort_data['polarity'] = polarity\n",
    "Kilimall_pointsort_data['subjectivity'] = subjectivity\n"
   ]
  },
  {
   "cell_type": "code",
   "execution_count": 57,
   "id": "8fd85fc8",
   "metadata": {},
   "outputs": [
    {
     "data": {
      "text/html": [
       "<div>\n",
       "<style scoped>\n",
       "    .dataframe tbody tr th:only-of-type {\n",
       "        vertical-align: middle;\n",
       "    }\n",
       "\n",
       "    .dataframe tbody tr th {\n",
       "        vertical-align: top;\n",
       "    }\n",
       "\n",
       "    .dataframe thead th {\n",
       "        text-align: right;\n",
       "    }\n",
       "</style>\n",
       "<table border=\"1\" class=\"dataframe\">\n",
       "  <thead>\n",
       "    <tr style=\"text-align: right;\">\n",
       "      <th></th>\n",
       "      <th>content</th>\n",
       "      <th>reviewCreatedVersion</th>\n",
       "      <th>score</th>\n",
       "      <th>Review_timestamp</th>\n",
       "      <th>thumbsUpCount</th>\n",
       "      <th>extracted_emojis</th>\n",
       "      <th>Sentiment_score</th>\n",
       "      <th>polarity</th>\n",
       "      <th>subjectivity</th>\n",
       "      <th>feedback</th>\n",
       "    </tr>\n",
       "  </thead>\n",
       "  <tbody>\n",
       "    <tr>\n",
       "      <th>553</th>\n",
       "      <td>simple and easy to use</td>\n",
       "      <td>5.7.0</td>\n",
       "      <td>4</td>\n",
       "      <td>2025-02-03 21:18:45</td>\n",
       "      <td>0</td>\n",
       "      <td>simple and easy to use</td>\n",
       "      <td>NaN</td>\n",
       "      <td>0.216667</td>\n",
       "      <td>0.595238</td>\n",
       "      <td>positive feedback</td>\n",
       "    </tr>\n",
       "    <tr>\n",
       "      <th>31</th>\n",
       "      <td>angelina constantly provides exceptionally ser...</td>\n",
       "      <td>5.8.0</td>\n",
       "      <td>5</td>\n",
       "      <td>2025-02-03 21:12:19</td>\n",
       "      <td>0</td>\n",
       "      <td>angelina constantly provides exceptionally ser...</td>\n",
       "      <td>(-0.04666666666666667, 0.7133333333333334)</td>\n",
       "      <td>0.322917</td>\n",
       "      <td>0.608333</td>\n",
       "      <td>positive feedback</td>\n",
       "    </tr>\n",
       "    <tr>\n",
       "      <th>3</th>\n",
       "      <td>i have been using this app over five years, at...</td>\n",
       "      <td>5.7.0</td>\n",
       "      <td>1</td>\n",
       "      <td>2025-02-03 20:55:07</td>\n",
       "      <td>0</td>\n",
       "      <td>i have been using this app over five years, at...</td>\n",
       "      <td>(0.025, 0.325)</td>\n",
       "      <td>0.106250</td>\n",
       "      <td>0.454167</td>\n",
       "      <td>positive feedback</td>\n",
       "    </tr>\n",
       "    <tr>\n",
       "      <th>129</th>\n",
       "      <td>good online shop to consider fast and easy to ...</td>\n",
       "      <td>5.7.0</td>\n",
       "      <td>5</td>\n",
       "      <td>2025-02-03 19:42:59</td>\n",
       "      <td>0</td>\n",
       "      <td>good online shop to consider fast and easy to ...</td>\n",
       "      <td>NaN</td>\n",
       "      <td>0.444444</td>\n",
       "      <td>0.677778</td>\n",
       "      <td>positive feedback</td>\n",
       "    </tr>\n",
       "    <tr>\n",
       "      <th>963</th>\n",
       "      <td>the best online business platform you can trust.</td>\n",
       "      <td>5.8.0</td>\n",
       "      <td>5</td>\n",
       "      <td>2025-02-03 17:29:46</td>\n",
       "      <td>0</td>\n",
       "      <td>the best online business platform you can trust.</td>\n",
       "      <td>NaN</td>\n",
       "      <td>1.000000</td>\n",
       "      <td>0.300000</td>\n",
       "      <td>positive feedback</td>\n",
       "    </tr>\n",
       "    <tr>\n",
       "      <th>22</th>\n",
       "      <td>kilimall never fails it is my number one shopp...</td>\n",
       "      <td>5.7.0</td>\n",
       "      <td>5</td>\n",
       "      <td>2025-02-03 12:24:10</td>\n",
       "      <td>0</td>\n",
       "      <td>kilimall never fails it is my number one shopp...</td>\n",
       "      <td>(0.575, 0.45625)</td>\n",
       "      <td>0.312500</td>\n",
       "      <td>0.375000</td>\n",
       "      <td>positive feedback</td>\n",
       "    </tr>\n",
       "    <tr>\n",
       "      <th>15</th>\n",
       "      <td>nice shopping app with more quality varieties ...</td>\n",
       "      <td>5.8.0</td>\n",
       "      <td>5</td>\n",
       "      <td>2025-02-03 00:08:17</td>\n",
       "      <td>0</td>\n",
       "      <td>nice shopping app with more quality varieties ...</td>\n",
       "      <td>(0.20625, 0.70625)</td>\n",
       "      <td>0.320000</td>\n",
       "      <td>0.400000</td>\n",
       "      <td>positive feedback</td>\n",
       "    </tr>\n",
       "    <tr>\n",
       "      <th>164</th>\n",
       "      <td>the best and convenient online shopping centre</td>\n",
       "      <td>5.8.0</td>\n",
       "      <td>5</td>\n",
       "      <td>2025-02-02 22:19:16</td>\n",
       "      <td>0</td>\n",
       "      <td>the best and convenient online shopping centre</td>\n",
       "      <td>NaN</td>\n",
       "      <td>1.000000</td>\n",
       "      <td>0.300000</td>\n",
       "      <td>positive feedback</td>\n",
       "    </tr>\n",
       "    <tr>\n",
       "      <th>208</th>\n",
       "      <td>💯the best app to chop,, 🤞very fast no delays</td>\n",
       "      <td>5.7.0</td>\n",
       "      <td>5</td>\n",
       "      <td>2025-02-02 21:14:57</td>\n",
       "      <td>0</td>\n",
       "      <td>the best app to chop,, very fast no delays</td>\n",
       "      <td>NaN</td>\n",
       "      <td>0.630000</td>\n",
       "      <td>0.540000</td>\n",
       "      <td>positive feedback</td>\n",
       "    </tr>\n",
       "    <tr>\n",
       "      <th>4</th>\n",
       "      <td>lovely. if there is anything i love about kili...</td>\n",
       "      <td>5.8.0</td>\n",
       "      <td>5</td>\n",
       "      <td>2025-02-01 22:24:10</td>\n",
       "      <td>1</td>\n",
       "      <td>lovely. if there is anything i love about kili...</td>\n",
       "      <td>(0.4666666666666666, 0.5666666666666668)</td>\n",
       "      <td>0.358286</td>\n",
       "      <td>0.607429</td>\n",
       "      <td>positive feedback</td>\n",
       "    </tr>\n",
       "  </tbody>\n",
       "</table>\n",
       "</div>"
      ],
      "text/plain": [
       "                                               content reviewCreatedVersion  \\\n",
       "553                             simple and easy to use                5.7.0   \n",
       "31   angelina constantly provides exceptionally ser...                5.8.0   \n",
       "3    i have been using this app over five years, at...                5.7.0   \n",
       "129  good online shop to consider fast and easy to ...                5.7.0   \n",
       "963   the best online business platform you can trust.                5.8.0   \n",
       "22   kilimall never fails it is my number one shopp...                5.7.0   \n",
       "15   nice shopping app with more quality varieties ...                5.8.0   \n",
       "164     the best and convenient online shopping centre                5.8.0   \n",
       "208       💯the best app to chop,, 🤞very fast no delays                5.7.0   \n",
       "4    lovely. if there is anything i love about kili...                5.8.0   \n",
       "\n",
       "     score    Review_timestamp  thumbsUpCount  \\\n",
       "553      4 2025-02-03 21:18:45              0   \n",
       "31       5 2025-02-03 21:12:19              0   \n",
       "3        1 2025-02-03 20:55:07              0   \n",
       "129      5 2025-02-03 19:42:59              0   \n",
       "963      5 2025-02-03 17:29:46              0   \n",
       "22       5 2025-02-03 12:24:10              0   \n",
       "15       5 2025-02-03 00:08:17              0   \n",
       "164      5 2025-02-02 22:19:16              0   \n",
       "208      5 2025-02-02 21:14:57              0   \n",
       "4        5 2025-02-01 22:24:10              1   \n",
       "\n",
       "                                      extracted_emojis  \\\n",
       "553                             simple and easy to use   \n",
       "31   angelina constantly provides exceptionally ser...   \n",
       "3    i have been using this app over five years, at...   \n",
       "129  good online shop to consider fast and easy to ...   \n",
       "963   the best online business platform you can trust.   \n",
       "22   kilimall never fails it is my number one shopp...   \n",
       "15   nice shopping app with more quality varieties ...   \n",
       "164     the best and convenient online shopping centre   \n",
       "208         the best app to chop,, very fast no delays   \n",
       "4    lovely. if there is anything i love about kili...   \n",
       "\n",
       "                                Sentiment_score  polarity  subjectivity  \\\n",
       "553                                         NaN  0.216667      0.595238   \n",
       "31   (-0.04666666666666667, 0.7133333333333334)  0.322917      0.608333   \n",
       "3                                (0.025, 0.325)  0.106250      0.454167   \n",
       "129                                         NaN  0.444444      0.677778   \n",
       "963                                         NaN  1.000000      0.300000   \n",
       "22                             (0.575, 0.45625)  0.312500      0.375000   \n",
       "15                           (0.20625, 0.70625)  0.320000      0.400000   \n",
       "164                                         NaN  1.000000      0.300000   \n",
       "208                                         NaN  0.630000      0.540000   \n",
       "4      (0.4666666666666666, 0.5666666666666668)  0.358286      0.607429   \n",
       "\n",
       "              feedback  \n",
       "553  positive feedback  \n",
       "31   positive feedback  \n",
       "3    positive feedback  \n",
       "129  positive feedback  \n",
       "963  positive feedback  \n",
       "22   positive feedback  \n",
       "15   positive feedback  \n",
       "164  positive feedback  \n",
       "208  positive feedback  \n",
       "4    positive feedback  "
      ]
     },
     "execution_count": 57,
     "metadata": {},
     "output_type": "execute_result"
    }
   ],
   "source": [
    "conditions = [(Kilimall_pointsort_data['polarity'] < 0),(Kilimall_pointsort_data['polarity'] == 0),(Kilimall_pointsort_data['polarity'] > 0)]\n",
    "values = ['negative feedback', 'neutral feedback', 'positive feedback']\n",
    "Kilimall_pointsort_data['feedback'] = np.select(conditions,values)\n",
    "\n",
    "Kilimall_pointsort_data[Kilimall_pointsort_data.polarity> 0].head(10)"
   ]
  },
  {
   "cell_type": "markdown",
   "id": "046143ff",
   "metadata": {},
   "source": [
    "#### What are the main issues or complaints highlighted by customers in their negative feedback?"
   ]
  },
  {
   "cell_type": "code",
   "execution_count": 61,
   "id": "a5bdaf3a",
   "metadata": {},
   "outputs": [
    {
     "data": {
      "text/html": [
       "<div>\n",
       "<style scoped>\n",
       "    .dataframe tbody tr th:only-of-type {\n",
       "        vertical-align: middle;\n",
       "    }\n",
       "\n",
       "    .dataframe tbody tr th {\n",
       "        vertical-align: top;\n",
       "    }\n",
       "\n",
       "    .dataframe thead th {\n",
       "        text-align: right;\n",
       "    }\n",
       "</style>\n",
       "<table border=\"1\" class=\"dataframe\">\n",
       "  <thead>\n",
       "    <tr style=\"text-align: right;\">\n",
       "      <th></th>\n",
       "      <th>content</th>\n",
       "      <th>reviewCreatedVersion</th>\n",
       "      <th>score</th>\n",
       "      <th>Review_timestamp</th>\n",
       "      <th>thumbsUpCount</th>\n",
       "      <th>extracted_emojis</th>\n",
       "      <th>Sentiment_score</th>\n",
       "      <th>polarity</th>\n",
       "      <th>subjectivity</th>\n",
       "      <th>feedback</th>\n",
       "    </tr>\n",
       "  </thead>\n",
       "  <tbody>\n",
       "    <tr>\n",
       "      <th>50</th>\n",
       "      <td>i have never been disappointed by killmall. th...</td>\n",
       "      <td>5.8.0</td>\n",
       "      <td>3</td>\n",
       "      <td>2025-01-31 13:17:29</td>\n",
       "      <td>0</td>\n",
       "      <td>i have never been disappointed by killmall. th...</td>\n",
       "      <td>(0.006666666666666668, 0.45666666666666667)</td>\n",
       "      <td>-0.2500</td>\n",
       "      <td>0.625000</td>\n",
       "      <td>negative feedback</td>\n",
       "    </tr>\n",
       "    <tr>\n",
       "      <th>12</th>\n",
       "      <td>kilimall did you stop shipping products for th...</td>\n",
       "      <td>5.8.0</td>\n",
       "      <td>4</td>\n",
       "      <td>2025-01-31 01:18:48</td>\n",
       "      <td>1</td>\n",
       "      <td>kilimall did you stop shipping products for th...</td>\n",
       "      <td>(-0.05, 0.6266666666666667)</td>\n",
       "      <td>-0.3125</td>\n",
       "      <td>0.583333</td>\n",
       "      <td>negative feedback</td>\n",
       "    </tr>\n",
       "    <tr>\n",
       "      <th>751</th>\n",
       "      <td>will never get tired of shopping at kilimall</td>\n",
       "      <td>5.8.0</td>\n",
       "      <td>5</td>\n",
       "      <td>2025-01-29 23:28:17</td>\n",
       "      <td>0</td>\n",
       "      <td>will never get tired of shopping at kilimall</td>\n",
       "      <td>NaN</td>\n",
       "      <td>-0.4000</td>\n",
       "      <td>0.700000</td>\n",
       "      <td>negative feedback</td>\n",
       "    </tr>\n",
       "    <tr>\n",
       "      <th>49</th>\n",
       "      <td>i encountered bad experience after returning a...</td>\n",
       "      <td>5.8.0</td>\n",
       "      <td>1</td>\n",
       "      <td>2025-01-29 12:48:33</td>\n",
       "      <td>0</td>\n",
       "      <td>i encountered bad experience after returning a...</td>\n",
       "      <td>(0.27849025974025976, 0.4858225108225108)</td>\n",
       "      <td>-0.4725</td>\n",
       "      <td>0.686667</td>\n",
       "      <td>negative feedback</td>\n",
       "    </tr>\n",
       "    <tr>\n",
       "      <th>557</th>\n",
       "      <td>supplier deliver different items and even when...</td>\n",
       "      <td>5.7.0</td>\n",
       "      <td>1</td>\n",
       "      <td>2025-01-23 09:52:26</td>\n",
       "      <td>0</td>\n",
       "      <td>supplier deliver different items and even when...</td>\n",
       "      <td>NaN</td>\n",
       "      <td>-0.3500</td>\n",
       "      <td>0.633333</td>\n",
       "      <td>negative feedback</td>\n",
       "    </tr>\n",
       "  </tbody>\n",
       "</table>\n",
       "</div>"
      ],
      "text/plain": [
       "                                               content reviewCreatedVersion  \\\n",
       "50   i have never been disappointed by killmall. th...                5.8.0   \n",
       "12   kilimall did you stop shipping products for th...                5.8.0   \n",
       "751       will never get tired of shopping at kilimall                5.8.0   \n",
       "49   i encountered bad experience after returning a...                5.8.0   \n",
       "557  supplier deliver different items and even when...                5.7.0   \n",
       "\n",
       "     score    Review_timestamp  thumbsUpCount  \\\n",
       "50       3 2025-01-31 13:17:29              0   \n",
       "12       4 2025-01-31 01:18:48              1   \n",
       "751      5 2025-01-29 23:28:17              0   \n",
       "49       1 2025-01-29 12:48:33              0   \n",
       "557      1 2025-01-23 09:52:26              0   \n",
       "\n",
       "                                      extracted_emojis  \\\n",
       "50   i have never been disappointed by killmall. th...   \n",
       "12   kilimall did you stop shipping products for th...   \n",
       "751       will never get tired of shopping at kilimall   \n",
       "49   i encountered bad experience after returning a...   \n",
       "557  supplier deliver different items and even when...   \n",
       "\n",
       "                                 Sentiment_score  polarity  subjectivity  \\\n",
       "50   (0.006666666666666668, 0.45666666666666667)   -0.2500      0.625000   \n",
       "12                   (-0.05, 0.6266666666666667)   -0.3125      0.583333   \n",
       "751                                          NaN   -0.4000      0.700000   \n",
       "49     (0.27849025974025976, 0.4858225108225108)   -0.4725      0.686667   \n",
       "557                                          NaN   -0.3500      0.633333   \n",
       "\n",
       "              feedback  \n",
       "50   negative feedback  \n",
       "12   negative feedback  \n",
       "751  negative feedback  \n",
       "49   negative feedback  \n",
       "557  negative feedback  "
      ]
     },
     "execution_count": 61,
     "metadata": {},
     "output_type": "execute_result"
    }
   ],
   "source": [
    "subject_matter = Kilimall_pointsort_data[Kilimall_pointsort_data.subjectivity>0.5]\n",
    "negative_subject_matter = subject_matter[subject_matter.polarity < 0]\n",
    "negative_subject_matter.head()"
   ]
  },
  {
   "cell_type": "code",
   "execution_count": 62,
   "id": "e1b08f14",
   "metadata": {},
   "outputs": [
    {
     "name": "stdout",
     "output_type": "stream",
     "text": [
      "positive feedback    0.702\n",
      "negative feedback    0.255\n",
      "neutral feedback     0.043\n",
      "Name: feedback, dtype: float64\n"
     ]
    },
    {
     "data": {
      "text/plain": [
       "Text(0.5, 1.0, 'Kilimall feedback rate')"
      ]
     },
     "execution_count": 62,
     "metadata": {},
     "output_type": "execute_result"
    },
    {
     "data": {
      "image/png": "[encoded data removed]",
      "text/plain": [
       "<Figure size 640x480 with 1 Axes>"
      ]
     },
     "metadata": {},
     "output_type": "display_data"
    }
   ],
   "source": [
    "print(Kilimall_pointsort_data['feedback'].value_counts(normalize=True))\n",
    "Feedback_rate =  Kilimall_pointsort_data['feedback'].value_counts(normalize=True).plot(kind=\"bar\")\n",
    "for i in Feedback_rate.patches:\n",
    "  Feedback_rate.annotate('{:.1f}'.format(i.get_height()), (i.get_x()+0.25, i.get_height()+0.01))\n",
    "plt.title('Kilimall feedback rate')"
   ]
  },
  {
   "cell_type": "code",
   "execution_count": 63,
   "id": "17bbc41d",
   "metadata": {},
   "outputs": [
    {
     "name": "stdout",
     "output_type": "stream",
     "text": [
      "positive feedback    702\n",
      "negative feedback    255\n",
      "neutral feedback      43\n",
      "Name: feedback, dtype: int64\n"
     ]
    },
    {
     "data": {
      "image/png": "[encoded data removed]",
      "text/plain": [
       "<Figure size 640x480 with 1 Axes>"
      ]
     },
     "metadata": {},
     "output_type": "display_data"
    }
   ],
   "source": [
    "print(Kilimall_pointsort_data['feedback'].value_counts())\n",
    "Feedback_value = sns.countplot(x='feedback', data = Kilimall_pointsort_data)\n",
    "for i in Feedback_value.patches:\n",
    "  Feedback_value.annotate('{:.1f}'.format(i.get_height()), (i.get_x()+0.25, i.get_height()+0.01))\n",
    "plt.title('Kilimall feedback count');"
   ]
  },
  {
   "cell_type": "markdown",
   "id": "0f71f0a1",
   "metadata": {},
   "source": [
    "##### Notes On Kilimall Analysis - to be completed\n",
    "1. Which online store (Jumia, Kilimall, or Jiji) has the highest positive sentiment from customers based on recent reviews?\n",
    "2. What are the common pain points or negative experiences reported by users across these platforms?\n",
    "3. Which features or aspects of online shopping do customers most frequently praise on each platform?\n",
    "4. What actionable insights can be drawn to enhance the functionality and user experience of the new app \"X\" based on customer feedback from existing platforms? "
   ]
  },
  {
   "cell_type": "markdown",
   "id": "329965b9",
   "metadata": {},
   "source": [
    "### JIJI - DATA PREPROCESSING\n",
    "### Lowercasing - this is to maintain consistency of data"
   ]
  },
  {
   "cell_type": "code",
   "execution_count": 64,
   "id": "17f2c06c",
   "metadata": {},
   "outputs": [
    {
     "data": {
      "text/plain": [
       "pandas.core.series.Series"
      ]
     },
     "execution_count": 64,
     "metadata": {},
     "output_type": "execute_result"
    }
   ],
   "source": [
    "# check data type of content and change to str\n",
    "type(Jiji_pointsort_data[\"content\"])\n"
   ]
  },
  {
   "cell_type": "code",
   "execution_count": 65,
   "id": "9d585115",
   "metadata": {},
   "outputs": [
    {
     "name": "stdout",
     "output_type": "stream",
     "text": [
      "82                  Easy to navigate and is trustworthy\n",
      "1     It's the best marketing for vehicles. Coz what...\n",
      "58    I joined jiji in 2017 and and first I didn't k...\n",
      "10    The app is amazing....alot of opportunities av...\n",
      "56      A perfect site for all your sales and purchases\n",
      "20    Okay so I have nothing to say but it is true i...\n",
      "19    Wonderful! Large selection, responsive vendors...\n",
      "33    This app is very frustrating to the seller ,ho...\n",
      "45    The more the updates the less the value of the...\n",
      "11    Kenyan best advertising company ever.The staff...\n",
      "3     The app is great, easy to use, and fast. Very ...\n",
      "84       Great platform for buying and selling products\n",
      "94    Excellent Work. The Best Marketing App in East...\n",
      "36    A convenient platform to trade in both as a bu...\n",
      "54                Simple , functional and user friendly\n",
      "67    Gives range of almost everything you need to p...\n",
      "32    Although i haven't finished preparing my new d...\n",
      "37    Jiji app is best and easy to connect with diff...\n",
      "72    It has really helped to get a variety of items...\n",
      "31    Good commercial app... Only that as they have ...\n",
      "Name: content, dtype: object\n"
     ]
    }
   ],
   "source": [
    "#convert to str\n",
    "Jiji_pointsort_data['content'] = Jiji_pointsort_data['content'].astype(str)\n",
    "print(Jiji_pointsort_data['content'].head(20))  "
   ]
  },
  {
   "cell_type": "code",
   "execution_count": 66,
   "id": "7e5ac4dc",
   "metadata": {},
   "outputs": [
    {
     "name": "stdout",
     "output_type": "stream",
     "text": [
      "82                  easy to navigate and is trustworthy\n",
      "1     it's the best marketing for vehicles. coz what...\n",
      "58    i joined jiji in 2017 and and first i didn't k...\n",
      "10    the app is amazing....alot of opportunities av...\n",
      "56      a perfect site for all your sales and purchases\n",
      "Name: content, dtype: object\n"
     ]
    }
   ],
   "source": [
    "#Lowercase all reviews\n",
    "\n",
    "Jiji_pointsort_data['content'] = Jiji_pointsort_data['content'].apply(lambda x: x.lower())\n",
    "print(Jiji_pointsort_data['content'].head()) \n",
    "\n",
    "# Most of the reviews are already in lowercase so can see the difference if we look at the whole dataset.\n"
   ]
  },
  {
   "cell_type": "markdown",
   "id": "e80ac1f6",
   "metadata": {},
   "source": [
    "### Emojis"
   ]
  },
  {
   "cell_type": "code",
   "execution_count": 67,
   "id": "686015de",
   "metadata": {},
   "outputs": [
    {
     "name": "stdout",
     "output_type": "stream",
     "text": [
      "True\n"
     ]
    },
    {
     "ename": "IndexError",
     "evalue": "list index out of range",
     "output_type": "error",
     "traceback": [
      "\u001b[1;31m---------------------------------------------------------------------------\u001b[0m",
      "\u001b[1;31mIndexError\u001b[0m                                Traceback (most recent call last)",
      "Cell \u001b[1;32mIn[67], line 17\u001b[0m\n\u001b[0;32m     13\u001b[0m \u001b[38;5;28;01mfor\u001b[39;00m i \u001b[38;5;129;01min\u001b[39;00m Jiji_pointsort_data[\u001b[38;5;124m'\u001b[39m\u001b[38;5;124mcontent\u001b[39m\u001b[38;5;124m'\u001b[39m]:\n\u001b[0;32m     14\u001b[0m   \u001b[38;5;66;03m#print(str(extract_emojis(y)))\u001b[39;00m\n\u001b[0;32m     15\u001b[0m   extracted_emojis\u001b[38;5;241m.\u001b[39mappend(\u001b[38;5;28mstr\u001b[39m(extract_emojis(i)))\n\u001b[1;32m---> 17\u001b[0m \u001b[38;5;28mprint\u001b[39m(\u001b[43mextracted_emojis\u001b[49m\u001b[43m[\u001b[49m\u001b[38;5;241;43m100\u001b[39;49m\u001b[43m]\u001b[49m)\n",
      "\u001b[1;31mIndexError\u001b[0m: list index out of range"
     ]
    }
   ],
   "source": [
    "#check if there is any special character\n",
    "alphabet = string.ascii_letters+string.punctuation\n",
    "print(Jiji_pointsort_data.content.str.strip(alphabet).astype(bool).any())\n",
    "\n",
    "extracted_emojis=[]\n",
    "\n",
    "def extract_emojis(s):\n",
    "  expe = re.compile('[\\U00010000-\\U0010ffff]', flags=re.UNICODE)\n",
    "  #return expe.findall(s)\n",
    "  return expe.sub(r'',s)\n",
    "\n",
    "\n",
    "for i in Jiji_pointsort_data['content']:\n",
    "  #print(str(extract_emojis(y)))\n",
    "  extracted_emojis.append(str(extract_emojis(i)))\n",
    "\n",
    "print(extracted_emojis[100])    "
   ]
  },
  {
   "cell_type": "markdown",
   "id": "a862e6c0",
   "metadata": {},
   "source": [
    "### Stopwords"
   ]
  },
  {
   "cell_type": "code",
   "execution_count": 68,
   "id": "6f63ac79",
   "metadata": {},
   "outputs": [
    {
     "name": "stdout",
     "output_type": "stream",
     "text": [
      "82                  easy to navigate and is trustworthy\n",
      "1     it's the best marketing for vehicles. coz what...\n",
      "58    i joined jiji in 2017 and and first i didn't k...\n",
      "10    the app is amazing....alot of opportunities av...\n",
      "56      a perfect site for all your sales and purchases\n",
      "Name: extracted_emojis, dtype: object\n"
     ]
    }
   ],
   "source": [
    "# removing stop words\n",
    "stop_words = stopwords.words('english')\n",
    "Jiji_pointsort_data[\"extracted_emojis\"] = extracted_emojis\n",
    "Jiji_pointsort_data[\"extracted_emojis\"] = Jiji_pointsort_data[\"extracted_emojis\"].apply(lambda x:x if x not in stop_words else None)\n",
    "print(Jiji_pointsort_data['extracted_emojis'].head())"
   ]
  },
  {
   "cell_type": "markdown",
   "id": "9cc28b77",
   "metadata": {},
   "source": [
    "### Stemming"
   ]
  },
  {
   "cell_type": "code",
   "execution_count": 69,
   "id": "80e7fd3b",
   "metadata": {},
   "outputs": [
    {
     "name": "stdout",
     "output_type": "stream",
     "text": [
      "82                  easy to navigate and is trustworthy\n",
      "1     it's the best marketing for vehicles. coz what...\n",
      "58    i joined jiji in 2017 and and first i didn't k...\n",
      "10    the app is amazing....alot of opportunities av...\n",
      "56      a perfect site for all your sales and purchases\n",
      "Name: extracted_emojis, dtype: object\n"
     ]
    }
   ],
   "source": [
    "from nltk.stem.snowball import PorterStemmer\n",
    "#stemming\n",
    "def stemming(x):\n",
    "  st = PorterStemmer()\n",
    "  if x is not None:\n",
    "    for word in x.split():\n",
    "      st.stem(word)\n",
    "\n",
    "Jiji_pointsort_data['extracted_emojis'].apply(lambda x: stemming(x))\n",
    "print(Jiji_pointsort_data['extracted_emojis'].head())      \n",
    "     "
   ]
  },
  {
   "cell_type": "markdown",
   "id": "4537ffdd",
   "metadata": {},
   "source": [
    "### JIJI SENTIMENT ANALYSIS"
   ]
  },
  {
   "cell_type": "code",
   "execution_count": 70,
   "id": "0445eefe",
   "metadata": {},
   "outputs": [
    {
     "name": "stdout",
     "output_type": "stream",
     "text": [
      "Empty DataFrame\n",
      "Columns: [extracted_emojis, Sentiment_score]\n",
      "Index: []\n"
     ]
    }
   ],
   "source": [
    "#Function to calculate sentiment score for whole data set\n",
    "\n",
    "def senti_sc(x):\n",
    "    if x is not None:\n",
    "       return TextBlob(x).sentiment\n",
    "Jiji_pointsort_data[\"Sentiment_score\"]= Jiji_pointsort_data[\"extracted_emojis\"].apply(senti_sc)\n",
    "print(Jiji_pointsort_data.loc[0:19,['extracted_emojis','Sentiment_score']])\n",
    "\n"
   ]
  },
  {
   "cell_type": "code",
   "execution_count": 71,
   "id": "f234bc0b",
   "metadata": {},
   "outputs": [
    {
     "data": {
      "text/plain": [
       "Sentiment(polarity=-0.019444444444444448, subjectivity=0.4833333333333333)"
      ]
     },
     "execution_count": 71,
     "metadata": {},
     "output_type": "execute_result"
    }
   ],
   "source": [
    "#for i in \n",
    "Jiji_pointsort_data['Sentiment_score'][0]"
   ]
  },
  {
   "cell_type": "code",
   "execution_count": 72,
   "id": "0d1df59f",
   "metadata": {},
   "outputs": [],
   "source": [
    "from textblob.en import subjectivity\n",
    "polarity=[]\n",
    "subjectivity = []\n",
    "for i in Jiji_pointsort_data['extracted_emojis'].values:\n",
    "  try:\n",
    "    analysis = TextBlob(i)\n",
    "    polarity.append(analysis.sentiment.polarity)\n",
    "    subjectivity.append(analysis.sentiment.subjectivity)\n",
    "    \n",
    "  except:\n",
    "     polarity.append(0)\n",
    "     subjectivity.append(0) "
   ]
  },
  {
   "cell_type": "code",
   "execution_count": 73,
   "id": "e1d11290",
   "metadata": {},
   "outputs": [],
   "source": [
    "Jiji_pointsort_data['polarity'] = polarity\n",
    "Jiji_pointsort_data['subjectivity'] = subjectivity\n"
   ]
  },
  {
   "cell_type": "code",
   "execution_count": 74,
   "id": "f0fbe1a4",
   "metadata": {},
   "outputs": [
    {
     "name": "stderr",
     "output_type": "stream",
     "text": [
      "C:\\Users\\HP\\AppData\\Local\\Temp\\ipykernel_19668\\4090279945.py:5: UserWarning: Boolean Series key will be reindexed to match DataFrame index.\n",
      "  Jiji_pointsort_data[Jumia_pointsort_data.polarity>0].head(10)\n"
     ]
    },
    {
     "data": {
      "text/html": [
       "<div>\n",
       "<style scoped>\n",
       "    .dataframe tbody tr th:only-of-type {\n",
       "        vertical-align: middle;\n",
       "    }\n",
       "\n",
       "    .dataframe tbody tr th {\n",
       "        vertical-align: top;\n",
       "    }\n",
       "\n",
       "    .dataframe thead th {\n",
       "        text-align: right;\n",
       "    }\n",
       "</style>\n",
       "<table border=\"1\" class=\"dataframe\">\n",
       "  <thead>\n",
       "    <tr style=\"text-align: right;\">\n",
       "      <th></th>\n",
       "      <th>content</th>\n",
       "      <th>reviewCreatedVersion</th>\n",
       "      <th>score</th>\n",
       "      <th>Review_timestamp</th>\n",
       "      <th>thumbsUpCount</th>\n",
       "      <th>extracted_emojis</th>\n",
       "      <th>Sentiment_score</th>\n",
       "      <th>polarity</th>\n",
       "      <th>subjectivity</th>\n",
       "      <th>feedback</th>\n",
       "    </tr>\n",
       "  </thead>\n",
       "  <tbody>\n",
       "    <tr>\n",
       "      <th>82</th>\n",
       "      <td>easy to navigate and is trustworthy</td>\n",
       "      <td>4.10.4.0</td>\n",
       "      <td>5</td>\n",
       "      <td>2025-02-03 03:05:18</td>\n",
       "      <td>0</td>\n",
       "      <td>easy to navigate and is trustworthy</td>\n",
       "      <td>(0.43333333333333335, 0.8333333333333334)</td>\n",
       "      <td>0.433333</td>\n",
       "      <td>0.833333</td>\n",
       "      <td>positive feedback</td>\n",
       "    </tr>\n",
       "    <tr>\n",
       "      <th>1</th>\n",
       "      <td>it's the best marketing for vehicles. coz what...</td>\n",
       "      <td>4.10.3.2</td>\n",
       "      <td>5</td>\n",
       "      <td>2025-01-31 09:24:50</td>\n",
       "      <td>5</td>\n",
       "      <td>it's the best marketing for vehicles. coz what...</td>\n",
       "      <td>(0.5333333333333333, 0.39444444444444443)</td>\n",
       "      <td>0.533333</td>\n",
       "      <td>0.394444</td>\n",
       "      <td>positive feedback</td>\n",
       "    </tr>\n",
       "    <tr>\n",
       "      <th>10</th>\n",
       "      <td>the app is amazing....alot of opportunities av...</td>\n",
       "      <td>4.10.4.0</td>\n",
       "      <td>5</td>\n",
       "      <td>2025-01-30 12:20:15</td>\n",
       "      <td>7</td>\n",
       "      <td>the app is amazing....alot of opportunities av...</td>\n",
       "      <td>(0.3111111111111111, 0.4666666666666666)</td>\n",
       "      <td>0.311111</td>\n",
       "      <td>0.466667</td>\n",
       "      <td>positive feedback</td>\n",
       "    </tr>\n",
       "    <tr>\n",
       "      <th>56</th>\n",
       "      <td>a perfect site for all your sales and purchases</td>\n",
       "      <td>4.10.4.0</td>\n",
       "      <td>5</td>\n",
       "      <td>2025-01-27 09:36:38</td>\n",
       "      <td>0</td>\n",
       "      <td>a perfect site for all your sales and purchases</td>\n",
       "      <td>(1.0, 1.0)</td>\n",
       "      <td>1.000000</td>\n",
       "      <td>1.000000</td>\n",
       "      <td>positive feedback</td>\n",
       "    </tr>\n",
       "    <tr>\n",
       "      <th>19</th>\n",
       "      <td>wonderful! large selection, responsive vendors...</td>\n",
       "      <td>4.10.4.0</td>\n",
       "      <td>5</td>\n",
       "      <td>2025-01-25 12:06:02</td>\n",
       "      <td>1</td>\n",
       "      <td>wonderful! large selection, responsive vendors...</td>\n",
       "      <td>(0.5714285714285714, 0.6761904761904761)</td>\n",
       "      <td>0.571429</td>\n",
       "      <td>0.676190</td>\n",
       "      <td>positive feedback</td>\n",
       "    </tr>\n",
       "    <tr>\n",
       "      <th>33</th>\n",
       "      <td>this app is very frustrating to the seller ,ho...</td>\n",
       "      <td>4.10.3.2</td>\n",
       "      <td>1</td>\n",
       "      <td>2025-01-24 12:27:28</td>\n",
       "      <td>0</td>\n",
       "      <td>this app is very frustrating to the seller ,ho...</td>\n",
       "      <td>(-0.010000000000000009, 0.75)</td>\n",
       "      <td>-0.010000</td>\n",
       "      <td>0.750000</td>\n",
       "      <td>negative feedback</td>\n",
       "    </tr>\n",
       "    <tr>\n",
       "      <th>45</th>\n",
       "      <td>the more the updates the less the value of the...</td>\n",
       "      <td>None</td>\n",
       "      <td>1</td>\n",
       "      <td>2025-01-24 11:10:26</td>\n",
       "      <td>1</td>\n",
       "      <td>the more the updates the less the value of the...</td>\n",
       "      <td>(0.2777777777777778, 0.35555555555555557)</td>\n",
       "      <td>0.277778</td>\n",
       "      <td>0.355556</td>\n",
       "      <td>positive feedback</td>\n",
       "    </tr>\n",
       "    <tr>\n",
       "      <th>11</th>\n",
       "      <td>kenyan best advertising company ever.the staff...</td>\n",
       "      <td>4.10.3.2</td>\n",
       "      <td>5</td>\n",
       "      <td>2025-01-24 07:21:07</td>\n",
       "      <td>0</td>\n",
       "      <td>kenyan best advertising company ever.the staff...</td>\n",
       "      <td>(0.6190885416666667, 0.44499999999999995)</td>\n",
       "      <td>0.619089</td>\n",
       "      <td>0.445000</td>\n",
       "      <td>positive feedback</td>\n",
       "    </tr>\n",
       "    <tr>\n",
       "      <th>3</th>\n",
       "      <td>the app is great, easy to use, and fast. very ...</td>\n",
       "      <td>4.10.3.2</td>\n",
       "      <td>5</td>\n",
       "      <td>2025-01-22 18:11:25</td>\n",
       "      <td>35</td>\n",
       "      <td>the app is great, easy to use, and fast. very ...</td>\n",
       "      <td>(0.49916666666666665, 0.7958333333333334)</td>\n",
       "      <td>0.499167</td>\n",
       "      <td>0.795833</td>\n",
       "      <td>positive feedback</td>\n",
       "    </tr>\n",
       "    <tr>\n",
       "      <th>84</th>\n",
       "      <td>great platform for buying and selling products</td>\n",
       "      <td>4.10.3.2</td>\n",
       "      <td>5</td>\n",
       "      <td>2025-01-21 15:14:42</td>\n",
       "      <td>0</td>\n",
       "      <td>great platform for buying and selling products</td>\n",
       "      <td>(0.8, 0.75)</td>\n",
       "      <td>0.800000</td>\n",
       "      <td>0.750000</td>\n",
       "      <td>positive feedback</td>\n",
       "    </tr>\n",
       "  </tbody>\n",
       "</table>\n",
       "</div>"
      ],
      "text/plain": [
       "                                              content reviewCreatedVersion  \\\n",
       "82                easy to navigate and is trustworthy             4.10.4.0   \n",
       "1   it's the best marketing for vehicles. coz what...             4.10.3.2   \n",
       "10  the app is amazing....alot of opportunities av...             4.10.4.0   \n",
       "56    a perfect site for all your sales and purchases             4.10.4.0   \n",
       "19  wonderful! large selection, responsive vendors...             4.10.4.0   \n",
       "33  this app is very frustrating to the seller ,ho...             4.10.3.2   \n",
       "45  the more the updates the less the value of the...                 None   \n",
       "11  kenyan best advertising company ever.the staff...             4.10.3.2   \n",
       "3   the app is great, easy to use, and fast. very ...             4.10.3.2   \n",
       "84     great platform for buying and selling products             4.10.3.2   \n",
       "\n",
       "    score    Review_timestamp  thumbsUpCount  \\\n",
       "82      5 2025-02-03 03:05:18              0   \n",
       "1       5 2025-01-31 09:24:50              5   \n",
       "10      5 2025-01-30 12:20:15              7   \n",
       "56      5 2025-01-27 09:36:38              0   \n",
       "19      5 2025-01-25 12:06:02              1   \n",
       "33      1 2025-01-24 12:27:28              0   \n",
       "45      1 2025-01-24 11:10:26              1   \n",
       "11      5 2025-01-24 07:21:07              0   \n",
       "3       5 2025-01-22 18:11:25             35   \n",
       "84      5 2025-01-21 15:14:42              0   \n",
       "\n",
       "                                     extracted_emojis  \\\n",
       "82                easy to navigate and is trustworthy   \n",
       "1   it's the best marketing for vehicles. coz what...   \n",
       "10  the app is amazing....alot of opportunities av...   \n",
       "56    a perfect site for all your sales and purchases   \n",
       "19  wonderful! large selection, responsive vendors...   \n",
       "33  this app is very frustrating to the seller ,ho...   \n",
       "45  the more the updates the less the value of the...   \n",
       "11  kenyan best advertising company ever.the staff...   \n",
       "3   the app is great, easy to use, and fast. very ...   \n",
       "84     great platform for buying and selling products   \n",
       "\n",
       "                              Sentiment_score  polarity  subjectivity  \\\n",
       "82  (0.43333333333333335, 0.8333333333333334)  0.433333      0.833333   \n",
       "1   (0.5333333333333333, 0.39444444444444443)  0.533333      0.394444   \n",
       "10   (0.3111111111111111, 0.4666666666666666)  0.311111      0.466667   \n",
       "56                                 (1.0, 1.0)  1.000000      1.000000   \n",
       "19   (0.5714285714285714, 0.6761904761904761)  0.571429      0.676190   \n",
       "33              (-0.010000000000000009, 0.75) -0.010000      0.750000   \n",
       "45  (0.2777777777777778, 0.35555555555555557)  0.277778      0.355556   \n",
       "11  (0.6190885416666667, 0.44499999999999995)  0.619089      0.445000   \n",
       "3   (0.49916666666666665, 0.7958333333333334)  0.499167      0.795833   \n",
       "84                                (0.8, 0.75)  0.800000      0.750000   \n",
       "\n",
       "             feedback  \n",
       "82  positive feedback  \n",
       "1   positive feedback  \n",
       "10  positive feedback  \n",
       "56  positive feedback  \n",
       "19  positive feedback  \n",
       "33  negative feedback  \n",
       "45  positive feedback  \n",
       "11  positive feedback  \n",
       "3   positive feedback  \n",
       "84  positive feedback  "
      ]
     },
     "execution_count": 74,
     "metadata": {},
     "output_type": "execute_result"
    }
   ],
   "source": [
    "conditions = [(Jiji_pointsort_data['polarity'] < 0),(Jiji_pointsort_data['polarity'] == 0),(Jiji_pointsort_data['polarity'] > 0)]\n",
    "values = ['negative feedback', 'neutral feedback', 'positive feedback']\n",
    "Jiji_pointsort_data['feedback'] = np.select(conditions,values)\n",
    "\n",
    "Jiji_pointsort_data[Jumia_pointsort_data.polarity>0].head(10)"
   ]
  },
  {
   "cell_type": "markdown",
   "id": "4a929971",
   "metadata": {},
   "source": [
    "#### What are the main issues or complaints highlighted by customers in their negative feedback?"
   ]
  },
  {
   "cell_type": "code",
   "execution_count": 75,
   "id": "43f55ee6",
   "metadata": {},
   "outputs": [
    {
     "data": {
      "text/html": [
       "<div>\n",
       "<style scoped>\n",
       "    .dataframe tbody tr th:only-of-type {\n",
       "        vertical-align: middle;\n",
       "    }\n",
       "\n",
       "    .dataframe tbody tr th {\n",
       "        vertical-align: top;\n",
       "    }\n",
       "\n",
       "    .dataframe thead th {\n",
       "        text-align: right;\n",
       "    }\n",
       "</style>\n",
       "<table border=\"1\" class=\"dataframe\">\n",
       "  <thead>\n",
       "    <tr style=\"text-align: right;\">\n",
       "      <th></th>\n",
       "      <th>content</th>\n",
       "      <th>reviewCreatedVersion</th>\n",
       "      <th>score</th>\n",
       "      <th>Review_timestamp</th>\n",
       "      <th>thumbsUpCount</th>\n",
       "      <th>extracted_emojis</th>\n",
       "      <th>Sentiment_score</th>\n",
       "      <th>polarity</th>\n",
       "      <th>subjectivity</th>\n",
       "      <th>feedback</th>\n",
       "    </tr>\n",
       "  </thead>\n",
       "  <tbody>\n",
       "    <tr>\n",
       "      <th>33</th>\n",
       "      <td>this app is very frustrating to the seller ,ho...</td>\n",
       "      <td>4.10.3.2</td>\n",
       "      <td>1</td>\n",
       "      <td>2025-01-24 12:27:28</td>\n",
       "      <td>0</td>\n",
       "      <td>this app is very frustrating to the seller ,ho...</td>\n",
       "      <td>(-0.010000000000000009, 0.75)</td>\n",
       "      <td>-0.010000</td>\n",
       "      <td>0.750000</td>\n",
       "      <td>negative feedback</td>\n",
       "    </tr>\n",
       "    <tr>\n",
       "      <th>6</th>\n",
       "      <td>after few months of use ..🙌 i'm extremely disa...</td>\n",
       "      <td>4.10.2.3</td>\n",
       "      <td>1</td>\n",
       "      <td>2024-12-02 20:31:46</td>\n",
       "      <td>0</td>\n",
       "      <td>after few months of use .. i'm extremely disap...</td>\n",
       "      <td>(-0.0015151515151515065, 0.5005050505050506)</td>\n",
       "      <td>-0.001515</td>\n",
       "      <td>0.500505</td>\n",
       "      <td>negative feedback</td>\n",
       "    </tr>\n",
       "    <tr>\n",
       "      <th>18</th>\n",
       "      <td>i have liked the app for the longest time beca...</td>\n",
       "      <td>4.10.1.0</td>\n",
       "      <td>2</td>\n",
       "      <td>2024-10-01 06:59:03</td>\n",
       "      <td>2</td>\n",
       "      <td>i have liked the app for the longest time beca...</td>\n",
       "      <td>(-0.11999999999999997, 0.6433333333333333)</td>\n",
       "      <td>-0.120000</td>\n",
       "      <td>0.643333</td>\n",
       "      <td>negative feedback</td>\n",
       "    </tr>\n",
       "    <tr>\n",
       "      <th>13</th>\n",
       "      <td>there's a permanent 1 notification that keeps ...</td>\n",
       "      <td>4.10.0.0</td>\n",
       "      <td>1</td>\n",
       "      <td>2024-09-02 21:48:30</td>\n",
       "      <td>9</td>\n",
       "      <td>there's a permanent 1 notification that keeps ...</td>\n",
       "      <td>(-0.18181818181818182, 0.5772727272727273)</td>\n",
       "      <td>-0.181818</td>\n",
       "      <td>0.577273</td>\n",
       "      <td>negative feedback</td>\n",
       "    </tr>\n",
       "    <tr>\n",
       "      <th>83</th>\n",
       "      <td>edit: 2022. you can only post a single ad on a...</td>\n",
       "      <td>4.8.2.1</td>\n",
       "      <td>3</td>\n",
       "      <td>2023-12-23 22:13:35</td>\n",
       "      <td>46</td>\n",
       "      <td>edit: 2022. you can only post a single ad on a...</td>\n",
       "      <td>(-0.04353741496598639, 0.6130298273155416)</td>\n",
       "      <td>-0.043537</td>\n",
       "      <td>0.613030</td>\n",
       "      <td>negative feedback</td>\n",
       "    </tr>\n",
       "  </tbody>\n",
       "</table>\n",
       "</div>"
      ],
      "text/plain": [
       "                                              content reviewCreatedVersion  \\\n",
       "33  this app is very frustrating to the seller ,ho...             4.10.3.2   \n",
       "6   after few months of use ..🙌 i'm extremely disa...             4.10.2.3   \n",
       "18  i have liked the app for the longest time beca...             4.10.1.0   \n",
       "13  there's a permanent 1 notification that keeps ...             4.10.0.0   \n",
       "83  edit: 2022. you can only post a single ad on a...              4.8.2.1   \n",
       "\n",
       "    score    Review_timestamp  thumbsUpCount  \\\n",
       "33      1 2025-01-24 12:27:28              0   \n",
       "6       1 2024-12-02 20:31:46              0   \n",
       "18      2 2024-10-01 06:59:03              2   \n",
       "13      1 2024-09-02 21:48:30              9   \n",
       "83      3 2023-12-23 22:13:35             46   \n",
       "\n",
       "                                     extracted_emojis  \\\n",
       "33  this app is very frustrating to the seller ,ho...   \n",
       "6   after few months of use .. i'm extremely disap...   \n",
       "18  i have liked the app for the longest time beca...   \n",
       "13  there's a permanent 1 notification that keeps ...   \n",
       "83  edit: 2022. you can only post a single ad on a...   \n",
       "\n",
       "                                 Sentiment_score  polarity  subjectivity  \\\n",
       "33                 (-0.010000000000000009, 0.75) -0.010000      0.750000   \n",
       "6   (-0.0015151515151515065, 0.5005050505050506) -0.001515      0.500505   \n",
       "18    (-0.11999999999999997, 0.6433333333333333) -0.120000      0.643333   \n",
       "13    (-0.18181818181818182, 0.5772727272727273) -0.181818      0.577273   \n",
       "83    (-0.04353741496598639, 0.6130298273155416) -0.043537      0.613030   \n",
       "\n",
       "             feedback  \n",
       "33  negative feedback  \n",
       "6   negative feedback  \n",
       "18  negative feedback  \n",
       "13  negative feedback  \n",
       "83  negative feedback  "
      ]
     },
     "execution_count": 75,
     "metadata": {},
     "output_type": "execute_result"
    }
   ],
   "source": [
    "subject_matter = Jiji_pointsort_data[Jiji_pointsort_data.subjectivity>0.5]\n",
    "negative_subject_matter = subject_matter[subject_matter.polarity < 0]\n",
    "negative_subject_matter.head()"
   ]
  },
  {
   "cell_type": "code",
   "execution_count": 76,
   "id": "1d002a90",
   "metadata": {},
   "outputs": [
    {
     "name": "stdout",
     "output_type": "stream",
     "text": [
      "positive feedback    0.75\n",
      "negative feedback    0.22\n",
      "neutral feedback     0.03\n",
      "Name: feedback, dtype: float64\n"
     ]
    },
    {
     "data": {
      "text/plain": [
       "Text(0.5, 1.0, 'Jiji feedback rate')"
      ]
     },
     "execution_count": 76,
     "metadata": {},
     "output_type": "execute_result"
    },
    {
     "data": {
      "image/png": "[encoded data removed]",
      "text/plain": [
       "<Figure size 640x480 with 1 Axes>"
      ]
     },
     "metadata": {},
     "output_type": "display_data"
    }
   ],
   "source": [
    "print(Jiji_pointsort_data['feedback'].value_counts(normalize=True))\n",
    "Feedback_rate =  Jiji_pointsort_data['feedback'].value_counts(normalize=True).plot(kind=\"bar\")\n",
    "for i in Feedback_rate.patches:\n",
    "  Feedback_rate.annotate('{:.1f}'.format(i.get_height()), (i.get_x()+0.25, i.get_height()+0.01))\n",
    "plt.title('Jiji feedback rate')"
   ]
  },
  {
   "cell_type": "code",
   "execution_count": 77,
   "id": "dfbd3a40",
   "metadata": {},
   "outputs": [
    {
     "name": "stdout",
     "output_type": "stream",
     "text": [
      "positive feedback    75\n",
      "negative feedback    22\n",
      "neutral feedback      3\n",
      "Name: feedback, dtype: int64\n"
     ]
    },
    {
     "data": {
      "image/png": "[encoded data removed]",
      "text/plain": [
       "<Figure size 640x480 with 1 Axes>"
      ]
     },
     "metadata": {},
     "output_type": "display_data"
    }
   ],
   "source": [
    "print(Jiji_pointsort_data['feedback'].value_counts())\n",
    "Feedback_value = sns.countplot(x='feedback', data = Jiji_pointsort_data)\n",
    "for i in Feedback_value.patches:\n",
    "  Feedback_value.annotate('{:.1f}'.format(i.get_height()), (i.get_x()+0.25, i.get_height()+0.01))\n",
    "plt.title('Jiji feedback count');"
   ]
  },
  {
   "cell_type": "markdown",
   "id": "a687af3d",
   "metadata": {},
   "source": [
    "##### Notes On Jiji Analysis - to be completed\n",
    "1. Which online store (Jumia, Kilimall, or Jiji) has the highest positive sentiment from customers based on recent reviews?\n",
    "2. What are the common pain points or negative experiences reported by users across these platforms?\n",
    "3. Which features or aspects of online shopping do customers most frequently praise on each platform?\n",
    "4. What actionable insights can be drawn to enhance the functionality and user experience of the new app \"X\" based on customer feedback from existing platforms? "
   ]
  },
  {
   "cell_type": "markdown",
   "id": "9abce324",
   "metadata": {},
   "source": [
    "#### Reccomendations on App X"
   ]
  },
  {
   "cell_type": "code",
   "execution_count": null,
   "id": "576b5d03",
   "metadata": {},
   "outputs": [],
   "source": []
  },
  {
   "cell_type": "markdown",
   "id": "a28f9ab9",
   "metadata": {},
   "source": [
    "##### Notes\n",
    "*We removed the count of reviews so the code for checking mising data is giving 0 values. I couldn'nt figure out a way of making  the data start from a specific standard date for all the three stores.\n",
    "*setting the sentiment score of Jumia returns an empty data set in th sentiment analysis\n",
    "*The output data after sentiment analysis is kinda misleading some reviews are clealy negative but the analysis says they are positive and vice versa.\n",
    "\n",
    "##### code we never used\n",
    "\n",
    "Example: Assuming Jumia_pointsort_data contains 'reviewCreatedVersion' and frequency data\n",
    "\n",
    "version_counts = Jumia_pointsort_data['reviewCreatedVersion'].value_counts()\n",
    "                           \n",
    "plt.bar(version_counts.index, version_counts.values)\n",
    "plt.xlabel(\"Version Review\")\n",
    "plt.ylabel(\"Frequency\")\n",
    "plt.title(\"Jumia Score Review Bar Chart\")\n",
    "plt.xticks(rotation=45)  # Rotate x-axis labels if they overlap\n",
    "plt.tight_layout()       # Adjust layout for better fit\n",
    "plt.show()Jumia.Jumia_pointsort_data['reviewCreatedVersion'.nunique(dropna=True)"
   ]
  },
  {
   "cell_type": "code",
   "execution_count": null,
   "id": "37652935",
   "metadata": {},
   "outputs": [],
   "source": [
    "\n",
    "# Plot histograms for each app\n",
    "plt.hist(Jumia_pointsort_data['score'], bins=5, alpha=0.7, label='Jumia', color='blue', edgecolor='black')\n",
    "plt.hist(Kilimall_pointsort_data['score'], bins=5, alpha=0.7, label='Kilimall', color='green', edgecolor='black')\n",
    "plt.hist(Jiji_pointsort_data['score'], bins=5, alpha=0.7, label='Jiji', color='red', edgecolor='black')\n",
    "\n",
    "# Add labels, title, and legend\n",
    "plt.xlabel('Score review')\n",
    "plt.ylabel('Frequency')\n",
    "plt.title('Comparison of App Reviews')\n",
    "plt.legend(loc='upper right')\n",
    "\n",
    "# Display the plot\n",
    "plt.show()"
   ]
  },
  {
   "cell_type": "code",
   "execution_count": null,
   "id": "dce582fa",
   "metadata": {},
   "outputs": [],
   "source": [
    "**** I thought a grouped bar chart would make more sense but I couldn't figure a way of improving this code.\n",
    "\n",
    "\n",
    "# Create bar positions\n",
    "score = ['1 Star', '2 Stars', '3 Stars', '4 Stars', '5 Stars'] \n",
    "x = np.arange(len('score'))  # Correctly use the length of the ratings list\n",
    "width = 0.25  # Width of each bar\n",
    "\n",
    "# Plot grouped bars7 plt.bar(x - width, Jumia_pointsort_data, width, label='Jumia', color='blue')\n",
    "plt.bar(x - width, Jumia_pointsort_data, width, label='Jumia', color='blue')\n",
    "plt.bar(x, Kilimall_pointsort_data, width, label='Kilimall', color='green')\n",
    "plt.bar(x + width, Jiji_pointsort_data, width, label='Jiji', color='red')\n",
    "\n",
    "# Add labels, title, and legend\n",
    "plt.xlabel('Score review')\n",
    "plt.ylabel('Frequency')\n",
    "plt.title('Comparison of App Reviews')\n",
    "plt.xticks(x, score)  # Use the ratings list for x-axis labels\n",
    "plt.legend()\n",
    "\n",
    "# Display the chart\n",
    "plt.show()\n"
   ]
  }
 ],
 "metadata": {
  "kernelspec": {
   "display_name": "Python 3 (ipykernel)",
   "language": "python",
   "name": "python3"
  },
  "language_info": {
   "codemirror_mode": {
    "name": "ipython",
    "version": 3
   },
   "file_extension": ".py",
   "mimetype": "text/x-python",
   "name": "python",
   "nbconvert_exporter": "python",
   "pygments_lexer": "ipython3",
   "version": "3.10.9"
  }
 },
 "nbformat": 4,
 "nbformat_minor": 5
}
